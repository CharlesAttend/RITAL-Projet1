{
 "cells": [
  {
   "cell_type": "code",
   "execution_count": 1,
   "metadata": {},
   "outputs": [],
   "source": [
    "from src.data import load_data, Mixed_analyzer\n",
    "import pandas as pd\n",
    "from nltk.corpus import stopwords\n",
    "from sklearn.feature_extraction.text import CountVectorizer"
   ]
  },
  {
   "cell_type": "code",
   "execution_count": 2,
   "metadata": {},
   "outputs": [],
   "source": [
    "X, y = load_data()"
   ]
  },
  {
   "cell_type": "code",
   "execution_count": 3,
   "metadata": {},
   "outputs": [
    {
     "data": {
      "text/plain": [
       "0    1000\n",
       "1    1000\n",
       "dtype: int64"
      ]
     },
     "execution_count": 3,
     "metadata": {},
     "output_type": "execute_result"
    }
   ],
   "source": [
    "pd.Series(y).value_counts()"
   ]
  },
  {
   "attachments": {},
   "cell_type": "markdown",
   "metadata": {},
   "source": [
    "dataset équilibré nice"
   ]
  },
  {
   "cell_type": "code",
   "execution_count": 4,
   "metadata": {},
   "outputs": [
    {
     "data": {
      "text/plain": [
       "'a fullyloaded entertainment review : website coming soon ! \\nhunter s . thompson\\'s fear and loathing in las vegas , written in 1971 , is already an american classic ; not merely because it was an unadulterated journey through the post-psychedelia of the 1960\\'s , but also because it ushered in a new form of journalism known as \" gonzo \" . \\nsoon after the book was written , hunter s . thomspon became the basis for a character in doonesbury known as uncle duke . \\nand that is the problem with fear and loathing in las vegas ( the movie . ) \\nalthough the book is one of my favorites , i now agree with thompson\\'s own assessment of the novel as \" unfilmable . \" \\nthe main problem is that the book , although detailing wild drug use and tripped-out adventures , was not written on the road . \\nit was written and edited by hunter s . thomspons , relatively sober , at his home . \\nso although the book depicts drug use and still more drug use , it is told with a sense of aloofness and some humor . \\nhunter s . thomspon , the narrator , while always drugged out , still has a grip on reality , and can still tell , with journalistic ability , what is going on around him . \\nnot so with the characters in fear and loathing in las vegas . \\ndespite name changes and one minor scene from the book dropped , the movie is an exact duplicate of the book , in terms of dialouge . \\nunfortunately , this can get annoying , in the form of johnny depp\\'s ( who plays thompson ) excessive narration . \\nand the characters , while having vivid personalities , are played as 2-d characers on the screen : dr . raoul duke ( johnny depp , the name raoul duke was an alias of thompson\\'s ) and his riding companion , dr . gonzo ( benicio del toro ) , who is a large samoan lawyer , have no personalities or emotions at all , save for stoned . \\nthe film is very faithful to the plot ( what there is ) of the book , in that dr . raoul duke is sent by sports illustrated to cover the mint 400 , and takes along not only his samoan lawyer but also car trunk full of drugs . \\nfrom there , one set of stoned adventures after another happens , including one of the few good scenes in which depp , high on acid , watches all the people in the bar around him turn into , literally , lounge lizards . \\nwhile the movie has its moments ( few ) , it is almost unwatchable at parts , especially towards the end . \\ndespite a lot of celebrity cameos , the stars never get off the ground . \\nthe set decoration and costumes are great , and probably deserve an oscar nomination . \\nhowever , as we all know , it\\'s not sets or effects that make a movie , its the characters ; and quite frankly , these characters are no good . \\n'"
      ]
     },
     "execution_count": 4,
     "metadata": {},
     "output_type": "execute_result"
    }
   ],
   "source": [
    "X[0]"
   ]
  },
  {
   "attachments": {},
   "cell_type": "markdown",
   "metadata": {},
   "source": [
    "y'a du taf"
   ]
  },
  {
   "cell_type": "code",
   "execution_count": null,
   "metadata": {},
   "outputs": [],
   "source": [
    "CountVectorizer()"
   ]
  }
 ],
 "metadata": {
  "kernelspec": {
   "display_name": "Python 3",
   "language": "python",
   "name": "python3"
  },
  "language_info": {
   "codemirror_mode": {
    "name": "ipython",
    "version": 3
   },
   "file_extension": ".py",
   "mimetype": "text/x-python",
   "name": "python",
   "nbconvert_exporter": "python",
   "pygments_lexer": "ipython3",
   "version": "3.8.10"
  },
  "orig_nbformat": 4,
  "vscode": {
   "interpreter": {
    "hash": "916dbcbb3f70747c44a77c7bcd40155683ae19c65e1c03b4aa3499c5328201f1"
   }
  }
 },
 "nbformat": 4,
 "nbformat_minor": 2
}
