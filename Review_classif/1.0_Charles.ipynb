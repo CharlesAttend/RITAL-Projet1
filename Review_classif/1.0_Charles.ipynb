{
 "cells": [
  {
   "cell_type": "code",
   "execution_count": 1,
   "metadata": {},
   "outputs": [],
   "source": [
    "from src.data import load_data, Custom_analyzer\n",
    "from src.eval import eval_from_config\n",
    "import pandas as pd\n",
    "from nltk.corpus import stopwords\n",
    "from sklearn.feature_extraction.text import CountVectorizer\n",
    "from sklearn.model_selection import train_test_split"
   ]
  },
  {
   "cell_type": "code",
   "execution_count": 2,
   "metadata": {},
   "outputs": [],
   "source": [
    "X, y = load_data()"
   ]
  },
  {
   "cell_type": "code",
   "execution_count": 3,
   "metadata": {},
   "outputs": [
    {
     "data": {
      "text/plain": [
       "0    1000\n",
       "1    1000\n",
       "dtype: int64"
      ]
     },
     "execution_count": 3,
     "metadata": {},
     "output_type": "execute_result"
    }
   ],
   "source": [
    "pd.Series(y).value_counts()"
   ]
  },
  {
   "attachments": {},
   "cell_type": "markdown",
   "metadata": {},
   "source": [
    "dataset équilibré nice"
   ]
  },
  {
   "cell_type": "code",
   "execution_count": 4,
   "metadata": {},
   "outputs": [
    {
     "data": {
      "text/plain": [
       "'a fullyloaded entertainment review : website coming soon ! \\nhunter s . thompson\\'s fear and loathing in las vegas , written in 1971 , is already an american classic ; not merely because it was an unadulterated journey through the post-psychedelia of the 1960\\'s , but also because it ushered in a new form of journalism known as \" gonzo \" . \\nsoon after the book was written , hunter s . thomspon became the basis for a character in doonesbury known as uncle duke . \\nand that is the problem with fear and loathing in las vegas ( the movie . ) \\nalthough the book is one of my favorites , i now agree with thompson\\'s own assessment of the novel as \" unfilmable . \" \\nthe main problem is that the book , although detailing wild drug use and tripped-out adventures , was not written on the road . \\nit was written and edited by hunter s . thomspons , relatively sober , at his home . \\nso although the book depicts drug use and still more drug use , it is told with a sense of aloofness and some humor . \\nhunter s . thomspon , the narrator , while always drugged out , still has a grip on reality , and can still tell , with journalistic ability , what is going on around him . \\nnot so with the characters in fear and loathing in las vegas . \\ndespite name changes and one minor scene from the book dropped , the movie is an exact duplicate of the book , in terms of dialouge . \\nunfortunately , this can get annoying , in the form of johnny depp\\'s ( who plays thompson ) excessive narration . \\nand the characters , while having vivid personalities , are played as 2-d characers on the screen : dr . raoul duke ( johnny depp , the name raoul duke was an alias of thompson\\'s ) and his riding companion , dr . gonzo ( benicio del toro ) , who is a large samoan lawyer , have no personalities or emotions at all , save for stoned . \\nthe film is very faithful to the plot ( what there is ) of the book , in that dr . raoul duke is sent by sports illustrated to cover the mint 400 , and takes along not only his samoan lawyer but also car trunk full of drugs . \\nfrom there , one set of stoned adventures after another happens , including one of the few good scenes in which depp , high on acid , watches all the people in the bar around him turn into , literally , lounge lizards . \\nwhile the movie has its moments ( few ) , it is almost unwatchable at parts , especially towards the end . \\ndespite a lot of celebrity cameos , the stars never get off the ground . \\nthe set decoration and costumes are great , and probably deserve an oscar nomination . \\nhowever , as we all know , it\\'s not sets or effects that make a movie , its the characters ; and quite frankly , these characters are no good . \\n'"
      ]
     },
     "execution_count": 4,
     "metadata": {},
     "output_type": "execute_result"
    }
   ],
   "source": [
    "X[0]"
   ]
  },
  {
   "attachments": {},
   "cell_type": "markdown",
   "metadata": {},
   "source": [
    "y'a du taf"
   ]
  },
  {
   "cell_type": "code",
   "execution_count": 5,
   "metadata": {},
   "outputs": [],
   "source": [
    "analyzer = Custom_analyzer(\"default_config\")"
   ]
  },
  {
   "cell_type": "code",
   "execution_count": 9,
   "metadata": {},
   "outputs": [
    {
     "name": "stdout",
     "output_type": "stream",
     "text": [
      "['guessing', 'this', 'may', 'start', 'causing', 'us', 'problems', 'either', 'soon', 'or', 'never', 'number', 'this', 'is', 'punctuation', 'and', 'this', 'is', 'number', 'number']\n"
     ]
    }
   ],
   "source": [
    "print(analyzer(\"I'm guessing this may start causing us problems either soon or never. @ 666 this is punctuation and this is a number : 12343\"))"
   ]
  },
  {
   "attachments": {},
   "cell_type": "markdown",
   "metadata": {},
   "source": [
    "ez"
   ]
  },
  {
   "cell_type": "code",
   "execution_count": 7,
   "metadata": {},
   "outputs": [],
   "source": [
    "X_train, X_test, y_train, y_test = train_test_split(X, y)"
   ]
  },
  {
   "cell_type": "code",
   "execution_count": 8,
   "metadata": {},
   "outputs": [
    {
     "name": "stdout",
     "output_type": "stream",
     "text": [
      "\n",
      "    Naïve Bayes :\n",
      "    =====\n",
      "    Macro F1-score : 0.8279008709016394\n",
      "    Micro F1-score : 0.828\n",
      "    Macro ROC-AUC: 0.8282093593296914\n",
      "    Weighted ROC-AUC: 0.8282093593296914\n",
      "    Classification report :\n",
      "                  precision    recall  f1-score   support\n",
      "\n",
      "           0       0.84      0.82      0.83       259\n",
      "           1       0.81      0.83      0.82       241\n",
      "\n",
      "    accuracy                           0.83       500\n",
      "   macro avg       0.83      0.83      0.83       500\n",
      "weighted avg       0.83      0.83      0.83       500\n",
      "\n",
      "    =====\n",
      "    \n",
      "\n",
      "    Logistic Regression :\n",
      "    =====\n",
      "    Macro F1-score : 0.827533650992283\n",
      "    Micro F1-score : 0.828\n",
      "    Macro ROC-AUC: 0.8272000512664412\n",
      "    Weighted ROC-AUC: 0.8272000512664412\n",
      "    Classification report :\n",
      "                  precision    recall  f1-score   support\n",
      "\n",
      "           0       0.82      0.85      0.84       259\n",
      "           1       0.83      0.80      0.82       241\n",
      "\n",
      "    accuracy                           0.83       500\n",
      "   macro avg       0.83      0.83      0.83       500\n",
      "weighted avg       0.83      0.83      0.83       500\n",
      "\n",
      "    =====\n",
      "    \n",
      "\n",
      "    SVM :\n",
      "    =====\n",
      "    Macro F1-score : 0.8255639097744362\n",
      "    Micro F1-score : 0.826\n",
      "    Macro ROC-AUC: 0.8252695493359394\n",
      "    Weighted ROC-AUC: 0.8252695493359394\n",
      "    Classification report :\n",
      "                  precision    recall  f1-score   support\n",
      "\n",
      "           0       0.82      0.85      0.83       259\n",
      "           1       0.83      0.80      0.82       241\n",
      "\n",
      "    accuracy                           0.83       500\n",
      "   macro avg       0.83      0.83      0.83       500\n",
      "weighted avg       0.83      0.83      0.83       500\n",
      "\n",
      "    =====\n",
      "    \n"
     ]
    },
    {
     "ename": "ValueError",
     "evalue": "Save Name already used",
     "output_type": "error",
     "traceback": [
      "\u001b[0;31m---------------------------------------------------------------------------\u001b[0m",
      "\u001b[0;31mValueError\u001b[0m                                Traceback (most recent call last)",
      "\u001b[1;32m/home/charles/RITAL-Projet1/Review_classif/1.0_Charles.ipynb Cell 11\u001b[0m in \u001b[0;36m<cell line: 1>\u001b[0;34m()\u001b[0m\n\u001b[0;32m----> <a href='vscode-notebook-cell://wsl%2Bubuntu-20.04/home/charles/RITAL-Projet1/Review_classif/1.0_Charles.ipynb#X13sdnNjb2RlLXJlbW90ZQ%3D%3D?line=0'>1</a>\u001b[0m eval_from_config(X_train, X_test, y_train, y_test, \u001b[39m\"\u001b[39m\u001b[39mdefault_config\u001b[39m\u001b[39m\"\u001b[39m, saveName\u001b[39m=\u001b[39m\u001b[39m\"\u001b[39m\u001b[39mTest2\u001b[39m\u001b[39m\"\u001b[39m)\n",
      "File \u001b[0;32m~/RITAL-Projet1/Review_classif/src/eval.py:117\u001b[0m, in \u001b[0;36meval_from_config\u001b[0;34m(X_train, X_test, y_train, y_test, config_name, vectorizer_class, saveName)\u001b[0m\n\u001b[1;32m    115\u001b[0m \u001b[39mif\u001b[39;00m saveName \u001b[39m!=\u001b[39m \u001b[39mNone\u001b[39;00m:\n\u001b[1;32m    116\u001b[0m     config \u001b[39m=\u001b[39m custom_ana\u001b[39m.\u001b[39mconfig\n\u001b[0;32m--> 117\u001b[0m     save_eval_and_config(config, results, algo_names, saveName)\n",
      "File \u001b[0;32m~/RITAL-Projet1/Review_classif/src/eval.py:153\u001b[0m, in \u001b[0;36msave_eval_and_config\u001b[0;34m(config, results, algo_names, saveName, path)\u001b[0m\n\u001b[1;32m    151\u001b[0m \u001b[39m# Checking if this saveName is not already used\u001b[39;00m\n\u001b[1;32m    152\u001b[0m \u001b[39mif\u001b[39;00m content\u001b[39m.\u001b[39mget(saveName, \u001b[39mNone\u001b[39;00m) \u001b[39m!=\u001b[39m \u001b[39mNone\u001b[39;00m:\n\u001b[0;32m--> 153\u001b[0m     \u001b[39mraise\u001b[39;00m \u001b[39mValueError\u001b[39;00m(\u001b[39m\"\u001b[39m\u001b[39mSave Name already used\u001b[39m\u001b[39m\"\u001b[39m)\n\u001b[1;32m    155\u001b[0m \u001b[39m# Rewrite\u001b[39;00m\n\u001b[1;32m    156\u001b[0m \u001b[39mwith\u001b[39;00m \u001b[39mopen\u001b[39m(path\u001b[39m+\u001b[39m\u001b[39m'\u001b[39m\u001b[39mconfig_name_map.json\u001b[39m\u001b[39m'\u001b[39m, \u001b[39m'\u001b[39m\u001b[39mw\u001b[39m\u001b[39m'\u001b[39m) \u001b[39mas\u001b[39;00m f:\n\u001b[1;32m    157\u001b[0m     \u001b[39m# Append\u001b[39;00m\n",
      "\u001b[0;31mValueError\u001b[0m: Save Name already used"
     ]
    }
   ],
   "source": [
    "eval_from_config(X_train, X_test, y_train, y_test, \"default_config\", saveName=\"Test2\")"
   ]
  },
  {
   "cell_type": "code",
   "execution_count": null,
   "metadata": {},
   "outputs": [],
   "source": []
  }
 ],
 "metadata": {
  "kernelspec": {
   "display_name": "Python 3",
   "language": "python",
   "name": "python3"
  },
  "language_info": {
   "codemirror_mode": {
    "name": "ipython",
    "version": 3
   },
   "file_extension": ".py",
   "mimetype": "text/x-python",
   "name": "python",
   "nbconvert_exporter": "python",
   "pygments_lexer": "ipython3",
   "version": "3.8.10"
  },
  "orig_nbformat": 4,
  "vscode": {
   "interpreter": {
    "hash": "916dbcbb3f70747c44a77c7bcd40155683ae19c65e1c03b4aa3499c5328201f1"
   }
  }
 },
 "nbformat": 4,
 "nbformat_minor": 2
}
