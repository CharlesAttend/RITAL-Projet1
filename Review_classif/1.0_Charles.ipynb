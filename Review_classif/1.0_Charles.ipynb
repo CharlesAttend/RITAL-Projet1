{
 "cells": [
  {
   "cell_type": "code",
   "execution_count": 1,
   "metadata": {},
   "outputs": [],
   "source": [
    "from src.data import load_data, Custom_analyzer\n",
    "from src.eval import eval_from_config\n",
    "import pandas as pd\n",
    "from nltk.corpus import stopwords\n",
    "from sklearn.feature_extraction.text import CountVectorizer\n",
    "from sklearn.model_selection import train_test_split"
   ]
  },
  {
   "cell_type": "code",
   "execution_count": 2,
   "metadata": {},
   "outputs": [],
   "source": [
    "X, y = load_data()"
   ]
  },
  {
   "cell_type": "code",
   "execution_count": 3,
   "metadata": {},
   "outputs": [
    {
     "data": {
      "text/plain": [
       "0    1000\n",
       "1    1000\n",
       "dtype: int64"
      ]
     },
     "execution_count": 3,
     "metadata": {},
     "output_type": "execute_result"
    }
   ],
   "source": [
    "pd.Series(y).value_counts()"
   ]
  },
  {
   "attachments": {},
   "cell_type": "markdown",
   "metadata": {},
   "source": [
    "dataset équilibré nice"
   ]
  },
  {
   "cell_type": "code",
   "execution_count": 4,
   "metadata": {},
   "outputs": [
    {
     "data": {
      "text/plain": [
       "'a fullyloaded entertainment review : website coming soon ! \\nhunter s . thompson\\'s fear and loathing in las vegas , written in 1971 , is already an american classic ; not merely because it was an unadulterated journey through the post-psychedelia of the 1960\\'s , but also because it ushered in a new form of journalism known as \" gonzo \" . \\nsoon after the book was written , hunter s . thomspon became the basis for a character in doonesbury known as uncle duke . \\nand that is the problem with fear and loathing in las vegas ( the movie . ) \\nalthough the book is one of my favorites , i now agree with thompson\\'s own assessment of the novel as \" unfilmable . \" \\nthe main problem is that the book , although detailing wild drug use and tripped-out adventures , was not written on the road . \\nit was written and edited by hunter s . thomspons , relatively sober , at his home . \\nso although the book depicts drug use and still more drug use , it is told with a sense of aloofness and some humor . \\nhunter s . thomspon , the narrator , while always drugged out , still has a grip on reality , and can still tell , with journalistic ability , what is going on around him . \\nnot so with the characters in fear and loathing in las vegas . \\ndespite name changes and one minor scene from the book dropped , the movie is an exact duplicate of the book , in terms of dialouge . \\nunfortunately , this can get annoying , in the form of johnny depp\\'s ( who plays thompson ) excessive narration . \\nand the characters , while having vivid personalities , are played as 2-d characers on the screen : dr . raoul duke ( johnny depp , the name raoul duke was an alias of thompson\\'s ) and his riding companion , dr . gonzo ( benicio del toro ) , who is a large samoan lawyer , have no personalities or emotions at all , save for stoned . \\nthe film is very faithful to the plot ( what there is ) of the book , in that dr . raoul duke is sent by sports illustrated to cover the mint 400 , and takes along not only his samoan lawyer but also car trunk full of drugs . \\nfrom there , one set of stoned adventures after another happens , including one of the few good scenes in which depp , high on acid , watches all the people in the bar around him turn into , literally , lounge lizards . \\nwhile the movie has its moments ( few ) , it is almost unwatchable at parts , especially towards the end . \\ndespite a lot of celebrity cameos , the stars never get off the ground . \\nthe set decoration and costumes are great , and probably deserve an oscar nomination . \\nhowever , as we all know , it\\'s not sets or effects that make a movie , its the characters ; and quite frankly , these characters are no good . \\n'"
      ]
     },
     "execution_count": 4,
     "metadata": {},
     "output_type": "execute_result"
    }
   ],
   "source": [
    "X[0]"
   ]
  },
  {
   "attachments": {},
   "cell_type": "markdown",
   "metadata": {},
   "source": [
    "y'a du taf"
   ]
  },
  {
   "cell_type": "code",
   "execution_count": 5,
   "metadata": {},
   "outputs": [],
   "source": [
    "analyzer = Custom_analyzer(\"default_config\")"
   ]
  },
  {
   "cell_type": "code",
   "execution_count": 6,
   "metadata": {},
   "outputs": [
    {
     "name": "stdout",
     "output_type": "stream",
     "text": [
      "['fullyloaded', 'entertainment', 'review', 'website', 'coming', 'soon', 'hunter', 'thompson', 'fear', 'and', 'loathing', 'in', 'las', 'vegas', 'written', 'in', '1971', 'is', 'already', 'an', 'american', 'classic', 'not', 'merely', 'because', 'it', 'was', 'an', 'unadulterated', 'journey', 'through', 'the', 'post', 'psychedelia', 'of', 'the', '1960', 'but', 'also', 'because', 'it', 'ushered', 'in', 'new', 'form', 'of', 'journalism', 'known', 'as', 'gonzo', 'soon', 'after', 'the', 'book', 'was', 'written', 'hunter', 'thomspon', 'became', 'the', 'basis', 'for', 'character', 'in', 'doonesbury', 'known', 'as', 'uncle', 'duke', 'and', 'that', 'is', 'the', 'problem', 'with', 'fear', 'and', 'loathing', 'in', 'las', 'vegas', 'the', 'movie', 'although', 'the', 'book', 'is', 'one', 'of', 'my', 'favorites', 'now', 'agree', 'with', 'thompson', 'own', 'assessment', 'of', 'the', 'novel', 'as', 'unfilmable', 'the', 'main', 'problem', 'is', 'that', 'the', 'book', 'although', 'detailing', 'wild', 'drug', 'use', 'and', 'tripped', 'out', 'adventures', 'was', 'not', 'written', 'on', 'the', 'road', 'it', 'was', 'written', 'and', 'edited', 'by', 'hunter', 'thomspons', 'relatively', 'sober', 'at', 'his', 'home', 'so', 'although', 'the', 'book', 'depicts', 'drug', 'use', 'and', 'still', 'more', 'drug', 'use', 'it', 'is', 'told', 'with', 'sense', 'of', 'aloofness', 'and', 'some', 'humor', 'hunter', 'thomspon', 'the', 'narrator', 'while', 'always', 'drugged', 'out', 'still', 'has', 'grip', 'on', 'reality', 'and', 'can', 'still', 'tell', 'with', 'journalistic', 'ability', 'what', 'is', 'going', 'on', 'around', 'him', 'not', 'so', 'with', 'the', 'characters', 'in', 'fear', 'and', 'loathing', 'in', 'las', 'vegas', 'despite', 'name', 'changes', 'and', 'one', 'minor', 'scene', 'from', 'the', 'book', 'dropped', 'the', 'movie', 'is', 'an', 'exact', 'duplicate', 'of', 'the', 'book', 'in', 'terms', 'of', 'dialouge', 'unfortunately', 'this', 'can', 'get', 'annoying', 'in', 'the', 'form', 'of', 'johnny', 'depp', 'who', 'plays', 'thompson', 'excessive', 'narration', 'and', 'the', 'characters', 'while', 'having', 'vivid', 'personalities', 'are', 'played', 'as', 'characers', 'on', 'the', 'screen', 'dr', 'raoul', 'duke', 'johnny', 'depp', 'the', 'name', 'raoul', 'duke', 'was', 'an', 'alias', 'of', 'thompson', 'and', 'his', 'riding', 'companion', 'dr', 'gonzo', 'benicio', 'del', 'toro', 'who', 'is', 'large', 'samoan', 'lawyer', 'have', 'no', 'personalities', 'or', 'emotions', 'at', 'all', 'save', 'for', 'stoned', 'the', 'film', 'is', 'very', 'faithful', 'to', 'the', 'plot', 'what', 'there', 'is', 'of', 'the', 'book', 'in', 'that', 'dr', 'raoul', 'duke', 'is', 'sent', 'by', 'sports', 'illustrated', 'to', 'cover', 'the', 'mint', '400', 'and', 'takes', 'along', 'not', 'only', 'his', 'samoan', 'lawyer', 'but', 'also', 'car', 'trunk', 'full', 'of', 'drugs', 'from', 'there', 'one', 'set', 'of', 'stoned', 'adventures', 'after', 'another', 'happens', 'including', 'one', 'of', 'the', 'few', 'good', 'scenes', 'in', 'which', 'depp', 'high', 'on', 'acid', 'watches', 'all', 'the', 'people', 'in', 'the', 'bar', 'around', 'him', 'turn', 'into', 'literally', 'lounge', 'lizards', 'while', 'the', 'movie', 'has', 'its', 'moments', 'few', 'it', 'is', 'almost', 'unwatchable', 'at', 'parts', 'especially', 'towards', 'the', 'end', 'despite', 'lot', 'of', 'celebrity', 'cameos', 'the', 'stars', 'never', 'get', 'off', 'the', 'ground', 'the', 'set', 'decoration', 'and', 'costumes', 'are', 'great', 'and', 'probably', 'deserve', 'an', 'oscar', 'nomination', 'however', 'as', 'we', 'all', 'know', 'it', 'not', 'sets', 'or', 'effects', 'that', 'make', 'movie', 'its', 'the', 'characters', 'and', 'quite', 'frankly', 'these', 'characters', 'are', 'no', 'good']\n"
     ]
    }
   ],
   "source": [
    "print(analyzer(X[0]))"
   ]
  },
  {
   "attachments": {},
   "cell_type": "markdown",
   "metadata": {},
   "source": [
    "ez"
   ]
  },
  {
   "cell_type": "code",
   "execution_count": 7,
   "metadata": {},
   "outputs": [],
   "source": [
    "X_train, X_test, y_train, y_test = train_test_split(X, y)"
   ]
  },
  {
   "cell_type": "code",
   "execution_count": 9,
   "metadata": {},
   "outputs": [
    {
     "name": "stdout",
     "output_type": "stream",
     "text": [
      "\n",
      "    Naïve Bayes :\n",
      "    =====\n",
      "    Macro F1-score : 0.8338078819114898\n",
      "    Micro F1-score : 0.834\n",
      "    Macro ROC-AUC: 0.8344884567871524\n",
      "    Weighted ROC-AUC: 0.8344884567871524\n",
      "    Classification report :\n",
      "                  precision    recall  f1-score   support\n",
      "\n",
      "           0       0.85      0.83      0.84       263\n",
      "           1       0.81      0.84      0.83       237\n",
      "\n",
      "    accuracy                           0.83       500\n",
      "   macro avg       0.83      0.83      0.83       500\n",
      "weighted avg       0.83      0.83      0.83       500\n",
      "\n",
      "    =====\n",
      "    \n",
      "\n",
      "    Logistic Regression :\n",
      "    =====\n",
      "    Macro F1-score : 0.7997404636408785\n",
      "    Micro F1-score : 0.8000000000000002\n",
      "    Macro ROC-AUC: 0.8002919895397155\n",
      "    Weighted ROC-AUC: 0.8002919895397155\n",
      "    Classification report :\n",
      "                  precision    recall  f1-score   support\n",
      "\n",
      "           0       0.82      0.79      0.81       263\n",
      "           1       0.78      0.81      0.79       237\n",
      "\n",
      "    accuracy                           0.80       500\n",
      "   macro avg       0.80      0.80      0.80       500\n",
      "weighted avg       0.80      0.80      0.80       500\n",
      "\n",
      "    =====\n",
      "    \n",
      "\n",
      "    SVM :\n",
      "    =====\n",
      "    Macro F1-score : 0.7894736842105263\n",
      "    Micro F1-score : 0.79\n",
      "    Macro ROC-AUC: 0.7895349023760247\n",
      "    Weighted ROC-AUC: 0.7895349023760247\n",
      "    Classification report :\n",
      "                  precision    recall  f1-score   support\n",
      "\n",
      "           0       0.80      0.80      0.80       263\n",
      "           1       0.78      0.78      0.78       237\n",
      "\n",
      "    accuracy                           0.79       500\n",
      "   macro avg       0.79      0.79      0.79       500\n",
      "weighted avg       0.79      0.79      0.79       500\n",
      "\n",
      "    =====\n",
      "    \n"
     ]
    }
   ],
   "source": [
    "eval_from_config(X_train, X_test, y_train, y_test, \"default_config\", saveName=\"Test2\")"
   ]
  },
  {
   "cell_type": "code",
   "execution_count": null,
   "metadata": {},
   "outputs": [],
   "source": []
  }
 ],
 "metadata": {
  "kernelspec": {
   "display_name": "Python 3",
   "language": "python",
   "name": "python3"
  },
  "language_info": {
   "codemirror_mode": {
    "name": "ipython",
    "version": 3
   },
   "file_extension": ".py",
   "mimetype": "text/x-python",
   "name": "python",
   "nbconvert_exporter": "python",
   "pygments_lexer": "ipython3",
   "version": "3.8.10"
  },
  "orig_nbformat": 4,
  "vscode": {
   "interpreter": {
    "hash": "916dbcbb3f70747c44a77c7bcd40155683ae19c65e1c03b4aa3499c5328201f1"
   }
  }
 },
 "nbformat": 4,
 "nbformat_minor": 2
}
