{
 "cells": [
  {
   "cell_type": "code",
   "execution_count": 23,
   "metadata": {},
   "outputs": [],
   "source": [
    "import joblib\n",
    "from src.data import load_data_part1\n",
    "from src.postprocessing import windows_post\n",
    "import pandas as pd"
   ]
  },
  {
   "attachments": {},
   "cell_type": "markdown",
   "metadata": {},
   "source": [
    "# Locuteur"
   ]
  },
  {
   "cell_type": "code",
   "execution_count": 19,
   "metadata": {},
   "outputs": [],
   "source": [
    "X_train, y_train = load_data_part1(\n",
    "    path=\"./part1_speaker_recognition/data/raw/corpus.tache1.learn.utf8\",\n",
    ")\n",
    "X_valid, y_valid = load_data_part1(\n",
    "    path=\"./part1_speaker_recognition/data/raw/corpus.tache1.test.utf8\",\n",
    ")"
   ]
  },
  {
   "cell_type": "code",
   "execution_count": 20,
   "metadata": {},
   "outputs": [
    {
     "data": {
      "text/plain": [
       "array([ 1,  1,  1, ..., -1,  1,  1])"
      ]
     },
     "execution_count": 20,
     "metadata": {},
     "output_type": "execute_result"
    }
   ],
   "source": [
    "y_valid"
   ]
  },
  {
   "cell_type": "code",
   "execution_count": 21,
   "metadata": {},
   "outputs": [
    {
     "name": "stderr",
     "output_type": "stream",
     "text": [
      "/home/charles/.pyenv/versions/3.10.10/lib/python3.10/site-packages/sklearn/svm/_base.py:1244: ConvergenceWarning: Liblinear failed to converge, increase the number of iterations.\n",
      "  warnings.warn(\n"
     ]
    }
   ],
   "source": [
    "d = joblib.load(\"./part1_speaker_recognition/gridsearch/results/part1_hrscv_LinearSVC.pkl\")\n",
    "pipeline = d.best_estimator_\n",
    "pipeline.fit(X_train, y_train)\n",
    "y_hat = pd.Series(pipeline.predict(X_valid))"
   ]
  },
  {
   "cell_type": "code",
   "execution_count": 22,
   "metadata": {},
   "outputs": [],
   "source": [
    "y_hat.replace({-1: \"M\", 1:\"C\"}).to_csv('./part1_speaker_recognition/data/validation/validation_LinearSVC_noPost.csv', index=False, header=False)"
   ]
  },
  {
   "attachments": {},
   "cell_type": "markdown",
   "metadata": {},
   "source": [
    "## Postprocess"
   ]
  },
  {
   "cell_type": "code",
   "execution_count": null,
   "metadata": {},
   "outputs": [],
   "source": [
    "y_hat_post_simple = windows_post(y_hat, 3)\n",
    "y_hat_post_simple.replace({-1: \"M\", 1:\"C\"}).to_csv('./part1_speaker_recognition/data/validation/validation_LinearSVC_simplePost.csv', index=False, header=False)"
   ]
  },
  {
   "cell_type": "code",
   "execution_count": 25,
   "metadata": {},
   "outputs": [
    {
     "name": "stdout",
     "output_type": "stream",
     "text": [
      "2\n",
      "3\n"
     ]
    }
   ],
   "source": [
    "y_hat_post_hard = windows_post(y_hat)\n",
    "for i in range(2, 4):\n",
    "    print(i)\n",
    "    y_hat_post_hard = windows_post(y_hat_post_hard, i)\n",
    "y_hat_post_hard.replace({-1: \"M\", 1:\"C\"}).to_csv('./part1_speaker_recognition/data/validation/validation_LinearSVC_hardPost.csv', index=False, header=False)"
   ]
  },
  {
   "cell_type": "code",
   "execution_count": null,
   "metadata": {},
   "outputs": [],
   "source": []
  }
 ],
 "metadata": {
  "kernelspec": {
   "display_name": "Python 3",
   "language": "python",
   "name": "python3"
  },
  "language_info": {
   "codemirror_mode": {
    "name": "ipython",
    "version": 3
   },
   "file_extension": ".py",
   "mimetype": "text/x-python",
   "name": "python",
   "nbconvert_exporter": "python",
   "pygments_lexer": "ipython3",
   "version": "3.10.10"
  },
  "orig_nbformat": 4
 },
 "nbformat": 4,
 "nbformat_minor": 2
}
