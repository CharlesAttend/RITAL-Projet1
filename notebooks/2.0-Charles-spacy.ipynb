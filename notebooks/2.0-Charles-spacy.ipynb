{
 "cells": [
  {
   "cell_type": "code",
   "execution_count": 1,
   "metadata": {},
   "outputs": [
    {
     "name": "stderr",
     "output_type": "stream",
     "text": [
      "[nltk_data] Downloading package stopwords to\n",
      "[nltk_data]     /home/charles/nltk_data...\n",
      "[nltk_data]   Package stopwords is already up-to-date!\n"
     ]
    }
   ],
   "source": [
    "import sys\n",
    "sys.path.append('../')\n",
    "from src import load_dataset\n",
    "\n",
    "import spacy\n",
    "import numpy as np\n",
    "from tqdm import tqdm\n",
    "from sklearn.feature_extraction.text import CountVectorizer"
   ]
  },
  {
   "cell_type": "code",
   "execution_count": 2,
   "metadata": {},
   "outputs": [],
   "source": [
    "X, y = load_dataset()\n",
    "nlp = spacy.load(\"fr_core_news_md\")"
   ]
  },
  {
   "cell_type": "code",
   "execution_count": 3,
   "metadata": {},
   "outputs": [
    {
     "name": "stderr",
     "output_type": "stream",
     "text": [
      "100%|██████████| 57413/57413 [09:21<00:00, 102.32it/s]\n"
     ]
    }
   ],
   "source": [
    "def my_analyzer(X):\n",
    "    \"\"\"\n",
    "    Use spacy to do everything\n",
    "    \"\"\"\n",
    "    doc = nlp(X)\n",
    "    l = []\n",
    "    for token in doc:\n",
    "        if token.is_stop or token.is_punct:\n",
    "            continue\n",
    "        else:\n",
    "            if token.like_num:\n",
    "                l.append(\"NUMBER\")\n",
    "            else:\n",
    "                l.append(token.lemma_)\n",
    "    return l\n",
    "vectorizer = CountVectorizer(\n",
    "    analyzer=my_analyzer,\n",
    ")\n",
    "# X_transformed = vectorizer.fit_transform(X)\n",
    "X_transformed = np.load('./X_transformed_spacy_stop_punct_likeNum_lemma')"
   ]
  },
  {
   "cell_type": "code",
   "execution_count": 6,
   "metadata": {},
   "outputs": [],
   "source": [
    "# import numpy as np\n",
    "# np.save('./X_transformed_spacy_stop_punct_likeNum_lemma', X_transformed)"
   ]
  },
  {
   "cell_type": "code",
   "execution_count": 7,
   "metadata": {},
   "outputs": [
    {
     "name": "stderr",
     "output_type": "stream",
     "text": [
      "/tmp/ipykernel_29055/191911167.py:6: DeprecationWarning: The asyncore module is deprecated and will be removed in Python 3.12. The recommended replacement is asyncio\n",
      "  from asyncore import write\n",
      "/home/charles/.local/lib/python3.11/site-packages/sklearn/linear_model/_logistic.py:458: ConvergenceWarning: lbfgs failed to converge (status=1):\n",
      "STOP: TOTAL NO. of ITERATIONS REACHED LIMIT.\n",
      "\n",
      "Increase the number of iterations (max_iter) or scale the data as shown in:\n",
      "    https://scikit-learn.org/stable/modules/preprocessing.html\n",
      "Please also refer to the documentation for alternative solver options:\n",
      "    https://scikit-learn.org/stable/modules/linear_model.html#logistic-regression\n",
      "  n_iter_i = _check_optimize_result(\n"
     ]
    },
    {
     "name": "stdout",
     "output_type": "stream",
     "text": [
      "Naïve Bayes accuracy: \n",
      "               precision    recall  f1-score   support\n",
      "\n",
      "          -1       0.59      0.34      0.43      2998\n",
      "           1       0.91      0.97      0.93     19968\n",
      "\n",
      "    accuracy                           0.88     22966\n",
      "   macro avg       0.75      0.65      0.68     22966\n",
      "weighted avg       0.87      0.88      0.87     22966\n",
      "\n",
      "Logistic Regression accuracy: \n",
      "               precision    recall  f1-score   support\n",
      "\n",
      "          -1       0.69      0.32      0.44      2998\n",
      "           1       0.91      0.98      0.94     19968\n",
      "\n",
      "    accuracy                           0.89     22966\n",
      "   macro avg       0.80      0.65      0.69     22966\n",
      "weighted avg       0.88      0.89      0.88     22966\n",
      "\n",
      "SVM accuracy: \n",
      "               precision    recall  f1-score   support\n",
      "\n",
      "          -1       0.57      0.39      0.46      2998\n",
      "           1       0.91      0.96      0.93     19968\n",
      "\n",
      "    accuracy                           0.88     22966\n",
      "   macro avg       0.74      0.67      0.70     22966\n",
      "weighted avg       0.87      0.88      0.87     22966\n",
      "\n"
     ]
    },
    {
     "name": "stderr",
     "output_type": "stream",
     "text": [
      "/home/charles/.local/lib/python3.11/site-packages/sklearn/svm/_base.py:1244: ConvergenceWarning: Liblinear failed to converge, increase the number of iterations.\n",
      "  warnings.warn(\n"
     ]
    }
   ],
   "source": [
    "from sklearn.model_selection import train_test_split\n",
    "\n",
    "# with a seed to enhence reproducibility\n",
    "X_train, X_test, y_train, y_test = train_test_split(X_transformed, y, test_size=0.4, random_state=0)\n",
    "\n",
    "from asyncore import write\n",
    "from sklearn.naive_bayes import MultinomialNB\n",
    "from sklearn.linear_model import LogisticRegression\n",
    "from sklearn.svm import LinearSVC\n",
    "from sklearn.metrics import accuracy_score, classification_report\n",
    "from src import write_classif_report\n",
    "\n",
    "#Naïve Bayes\n",
    "nb_clf = MultinomialNB()\n",
    "nb_clf.fit(X_train, y_train)\n",
    "\n",
    "#Logistic Regression\n",
    "lr_clf = LogisticRegression(random_state=0, solver='lbfgs', max_iter=100,n_jobs=-1)\n",
    "lr_clf.fit(X_train, y_train)\n",
    "\n",
    "#Linear SVM\n",
    "svm_clf = LinearSVC(random_state=0, tol=1e-5)\n",
    "svm_clf.fit(X_train, y_train)\n",
    "\n",
    "pred_nb = nb_clf.predict(X_test)\n",
    "pred_lr = lr_clf.predict(X_test)\n",
    "pred_svm = svm_clf.predict(X_test)\n",
    "\n",
    "\n",
    "print(f\"Naïve Bayes accuracy: \\n {classification_report(y_test, pred_nb)}\")\n",
    "print(f\"Logistic Regression accuracy: \\n {classification_report(y_test, pred_lr)}\")\n",
    "print(f\"SVM accuracy: \\n {classification_report(y_test, pred_svm)}\")"
   ]
  },
  {
   "attachments": {},
   "cell_type": "markdown",
   "metadata": {},
   "source": [
    "Score moins bon que de base pour dix fois plus de temps de train"
   ]
  },
  {
   "cell_type": "code",
   "execution_count": null,
   "metadata": {},
   "outputs": [],
   "source": []
  }
 ],
 "metadata": {
  "kernelspec": {
   "display_name": "Python 3",
   "language": "python",
   "name": "python3"
  },
  "language_info": {
   "codemirror_mode": {
    "name": "ipython",
    "version": 3
   },
   "file_extension": ".py",
   "mimetype": "text/x-python",
   "name": "python",
   "nbconvert_exporter": "python",
   "pygments_lexer": "ipython3",
   "version": "3.11.1"
  },
  "orig_nbformat": 4,
  "vscode": {
   "interpreter": {
    "hash": "e7370f93d1d0cde622a1f8e1c04877d8463912d04d973331ad4851f04de6915a"
   }
  }
 },
 "nbformat": 4,
 "nbformat_minor": 2
}
