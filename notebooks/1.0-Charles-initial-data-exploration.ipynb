{
 "cells": [
  {
   "cell_type": "code",
   "execution_count": 34,
   "metadata": {},
   "outputs": [],
   "source": [
    "import sys\n",
    "sys.path.append('../')\n",
    "from src import load_dataset\n",
    "\n",
    "from nltk.corpus import stopwords\n",
    "from sklearn.feature_extraction.text import CountVectorizer\n",
    "from nltk.stem.snowball import FrenchStemmer\n",
    "from wordcloud import WordCloud"
   ]
  },
  {
   "cell_type": "code",
   "execution_count": 35,
   "metadata": {},
   "outputs": [],
   "source": [
    "X, y = load_dataset()"
   ]
  },
  {
   "cell_type": "code",
   "execution_count": 36,
   "metadata": {},
   "outputs": [],
   "source": [
    "stemmer = FrenchStemmer()\n",
    "stopwords_list = stopwords.words('french')[:66] #on cut avant les différentes formes du verbe être/avoir qui seront handle par le stemmer\n",
    "\n",
    "\n",
    "class Mixed_analyzer():\n",
    "    def __init__(self, baseVectorizer=CountVectorizer(), stemmer=None) -> None:\n",
    "        \"\"\"\n",
    "        :param baseVectorizer : un vectorizer de Sklearn déjà custom sans analyser\n",
    "        :param stemmer : un stemmer si besoin\n",
    "        \"\"\"\n",
    "        self.preprocess = baseVectorizer.build_preprocessor()\n",
    "        self.tokenizer = baseVectorizer.build_tokenizer()\n",
    "        self.analyzer = baseVectorizer.build_analyzer()\n",
    "\n",
    "        self.stemmer = stemmer\n",
    "\n",
    "    def __call__(self, doc):\n",
    "        \"\"\"\n",
    "        Stem avec nltk + regarde les stopwords\n",
    "        \"\"\"\n",
    "        # Preprocessing : \n",
    "        #   Takes an entire document as input (as a single string), and returns a possibly transformed version of the document, still as an entire string. \n",
    "        #   This can be used to remove HTML tags, lowercase the entire document, etc.\n",
    "        # preprocess_doc = preprocess(doc)\n",
    "    \n",
    "        # Tokenizer :\n",
    "        #   a callable that takes the output from the preprocessor \n",
    "        #   and splits it into tokens, then returns a list of these.\n",
    "        \n",
    "        # N-gram extraction and stop word filtering take place at the analyzer level\n",
    "        \n",
    "        # Ici il preprocess + tokenise à partir du baseVectorizer\n",
    "        # * strip accent\n",
    "        # * Stop word\n",
    "        tokenized_list = self.analyzer(doc)\n",
    "    \n",
    "        # Stemming\n",
    "        if self.stemmer != None:\n",
    "            return [stemmer.stem(w) for w in tokenized_list]\n",
    "        return tokenized_list\n",
    "    \n",
    "        # return tokenized_list"
   ]
  },
  {
   "cell_type": "code",
   "execution_count": 37,
   "metadata": {},
   "outputs": [
    {
     "name": "stderr",
     "output_type": "stream",
     "text": [
      "/home/charles/.local/lib/python3.11/site-packages/sklearn/feature_extraction/text.py:409: UserWarning: Your stop_words may be inconsistent with your preprocessing. Tokenizing the stop words generated tokens ['meme'] not in stop_words.\n",
      "  warnings.warn(\n"
     ]
    }
   ],
   "source": [
    "mixed_analyzer = Mixed_analyzer(CountVectorizer(\n",
    "    strip_accents=\"ascii\",\n",
    "    stop_words=stopwords_list\n",
    "), FrenchStemmer())\n",
    "\n",
    "vectorizer = CountVectorizer(\n",
    "    analyzer=mixed_analyzer,\n",
    "    )\n",
    "X_transformed = vectorizer.fit_transform(X)"
   ]
  },
  {
   "cell_type": "code",
   "execution_count": 38,
   "metadata": {},
   "outputs": [
    {
     "data": {
      "text/plain": [
       "array(['absenc', 'absent', 'absente', 'absolu', 'absolus', 'absolut',\n",
       "       'absorb', 'absorpt', 'absten', 'abstent', 'abstention', 'abstenu',\n",
       "       'abstract', 'abstrair', 'abstrait', 'absurd', 'absurdit', 'abuj',\n",
       "       'abus', 'abym', 'acad', 'academ', 'academicien', 'acadien',\n",
       "       'acapulco', 'accabl', 'accablent', 'accapar', 'acce', 'acced',\n",
       "       'accedent', 'accederent', 'accel', 'acceler', 'accelere',\n",
       "       'accelerent', 'accent', 'accentu', 'accentue', 'accentuent',\n",
       "       'accept', 'accepte', 'acceptent', 'accepton', 'access',\n",
       "       'accessibilit', 'accessibl', 'accessoir', 'accident', 'accidentel',\n",
       "       'acclam', 'acclimat', 'accol', 'accommod', 'accommodent',\n",
       "       'accomod', 'accompagn', 'accompagne', 'accompagnent',\n",
       "       'accompagnon', 'accompl', 'accord', 'accorde', 'accordent',\n",
       "       'accordon', 'accost', 'accouch', 'accourt', 'accredit', 'accroch',\n",
       "       'accrochag', 'accroche', 'accroiss', 'accroissement',\n",
       "       'accroissent', 'accroit', 'accroitr', 'accroitront', 'accroup',\n",
       "       'accru', 'accrus', 'acct', 'accueil', 'accueillent', 'accueillon',\n",
       "       'accul', 'accultur', 'accumul', 'accumule', 'accumulent', 'accus',\n",
       "       'accusent', 'acere', 'acharn', 'acharne', 'acharnent', 'achat',\n",
       "       'achemin', 'acheminent', 'achet'], dtype=object)"
      ]
     },
     "execution_count": 38,
     "metadata": {},
     "output_type": "execute_result"
    }
   ],
   "source": [
    "words = vectorizer.get_feature_names_out()\n",
    "words[400:500]"
   ]
  },
  {
   "attachments": {},
   "cell_type": "markdown",
   "metadata": {},
   "source": [
    "# Prediction"
   ]
  },
  {
   "cell_type": "code",
   "execution_count": 39,
   "metadata": {},
   "outputs": [
    {
     "data": {
      "text/plain": [
       "<AxesSubplot: >"
      ]
     },
     "execution_count": 39,
     "metadata": {},
     "output_type": "execute_result"
    },
    {
     "data": {
      "image/png": "[encoded data removed]",
      "text/plain": [
       "<Figure size 640x480 with 1 Axes>"
      ]
     },
     "metadata": {},
     "output_type": "display_data"
    }
   ],
   "source": [
    "import matplotlib.pyplot as plt\n",
    "import pandas as pd\n",
    "# plt.plot(y, kind=pie)\n",
    "pd.Series(y).value_counts().plot.pie(autopct='%1.1f%%')"
   ]
  },
  {
   "attachments": {},
   "cell_type": "markdown",
   "metadata": {},
   "source": [
    "Un des deux ne parle pas beaucoup. Il vas falloir équilibrer les classes"
   ]
  },
  {
   "attachments": {},
   "cell_type": "markdown",
   "metadata": {},
   "source": [
    "Utilisons un [Random over sampler](https://imbalanced-learn.org/stable/over_sampling.html#random-over-sampler)"
   ]
  },
  {
   "cell_type": "code",
   "execution_count": 40,
   "metadata": {},
   "outputs": [
    {
     "data": {
      "text/plain": [
       "\"Nombre d'exemple avant over sampling: 57413, après oversampling : 99780\""
      ]
     },
     "execution_count": 40,
     "metadata": {},
     "output_type": "execute_result"
    },
    {
     "data": {
      "image/png": "[encoded data removed]",
      "text/plain": [
       "<Figure size 640x480 with 1 Axes>"
      ]
     },
     "metadata": {},
     "output_type": "display_data"
    }
   ],
   "source": []
  },
  {
   "cell_type": "code",
   "execution_count": 41,
   "metadata": {},
   "outputs": [],
   "source": [
    "from sklearn.model_selection import train_test_split\n",
    "\n",
    "# with a seed to enhence reproducibility\n",
    "X_train, X_test, y_train, y_test = train_test_split(X_transformed, y, test_size=0.4, random_state=0)"
   ]
  },
  {
   "cell_type": "code",
   "execution_count": null,
   "metadata": {},
   "outputs": [],
   "source": [
    "from imblearn.over_sampling import RandomOverSampler\n",
    "ros = RandomOverSampler(random_state=42)\n",
    "X_ROS, y_ROS = ros.fit_resample(X_trai, y)\n",
    "pd.Series(y_ROS).value_counts().plot.pie(autopct='%1.1f%%')\n",
    "f\"Nombre d'exemple avant over sampling: {len(y)}, après oversampling : {len(y_ROS)}\""
   ]
  },
  {
   "cell_type": "code",
   "execution_count": 42,
   "metadata": {},
   "outputs": [
    {
     "name": "stderr",
     "output_type": "stream",
     "text": [
      "/home/charles/.local/lib/python3.11/site-packages/sklearn/linear_model/_logistic.py:458: ConvergenceWarning: lbfgs failed to converge (status=1):\n",
      "STOP: TOTAL NO. of ITERATIONS REACHED LIMIT.\n",
      "\n",
      "Increase the number of iterations (max_iter) or scale the data as shown in:\n",
      "    https://scikit-learn.org/stable/modules/preprocessing.html\n",
      "Please also refer to the documentation for alternative solver options:\n",
      "    https://scikit-learn.org/stable/modules/linear_model.html#logistic-regression\n",
      "  n_iter_i = _check_optimize_result(\n"
     ]
    },
    {
     "name": "stdout",
     "output_type": "stream",
     "text": [
      "Naïve Bayes accuracy: \n",
      "               precision    recall  f1-score   support\n",
      "\n",
      "          -1       0.57      0.41      0.48      2998\n",
      "           1       0.91      0.95      0.93     19968\n",
      "\n",
      "    accuracy                           0.88     22966\n",
      "   macro avg       0.74      0.68      0.71     22966\n",
      "weighted avg       0.87      0.88      0.87     22966\n",
      "\n",
      "Logistic Regression accuracy: \n",
      "               precision    recall  f1-score   support\n",
      "\n",
      "          -1       0.70      0.35      0.47      2998\n",
      "           1       0.91      0.98      0.94     19968\n",
      "\n",
      "    accuracy                           0.90     22966\n",
      "   macro avg       0.80      0.67      0.71     22966\n",
      "weighted avg       0.88      0.90      0.88     22966\n",
      "\n",
      "SVM accuracy: \n",
      "               precision    recall  f1-score   support\n",
      "\n",
      "          -1       0.58      0.41      0.48      2998\n",
      "           1       0.91      0.96      0.93     19968\n",
      "\n",
      "    accuracy                           0.88     22966\n",
      "   macro avg       0.75      0.68      0.71     22966\n",
      "weighted avg       0.87      0.88      0.88     22966\n",
      "\n"
     ]
    },
    {
     "name": "stderr",
     "output_type": "stream",
     "text": [
      "/home/charles/.local/lib/python3.11/site-packages/sklearn/svm/_base.py:1244: ConvergenceWarning: Liblinear failed to converge, increase the number of iterations.\n",
      "  warnings.warn(\n"
     ]
    }
   ],
   "source": [
    "from asyncore import write\n",
    "from sklearn.naive_bayes import MultinomialNB\n",
    "from sklearn.linear_model import LogisticRegression\n",
    "from sklearn.svm import LinearSVC\n",
    "from sklearn.metrics import accuracy_score, classification_report\n",
    "from src import write_classif_report\n",
    "\n",
    "#Naïve Bayes\n",
    "nb_clf = MultinomialNB()\n",
    "nb_clf.fit(X_train, y_train)\n",
    "\n",
    "#Logistic Regression\n",
    "lr_clf = LogisticRegression(random_state=0, solver='lbfgs',max_iter=100,n_jobs=-1)\n",
    "lr_clf.fit(X_train, y_train)\n",
    "\n",
    "#Linear SVM\n",
    "svm_clf = LinearSVC(random_state=0, tol=1e-5)\n",
    "svm_clf.fit(X_train, y_train)\n",
    "\n",
    "pred_nb = nb_clf.predict(X_test)\n",
    "pred_lr = lr_clf.predict(X_test)\n",
    "pred_svm = svm_clf.predict(X_test)\n",
    "\n",
    "\n",
    "print(f\"Naïve Bayes accuracy: \\n {classification_report(y_test, pred_nb)}\")\n",
    "print(f\"Logistic Regression accuracy: \\n {classification_report(y_test, pred_lr)}\")\n",
    "print(f\"SVM accuracy: \\n {classification_report(y_test, pred_svm)}\")"
   ]
  },
  {
   "cell_type": "code",
   "execution_count": 43,
   "metadata": {},
   "outputs": [],
   "source": [
    "# write_classif_report(y_test, pred_lr, name=\"Lr_Accent_NltkStopword_NltkStemmer\")"
   ]
  },
  {
   "cell_type": "code",
   "execution_count": 44,
   "metadata": {},
   "outputs": [
    {
     "name": "stderr",
     "output_type": "stream",
     "text": [
      "/home/charles/.local/lib/python3.11/site-packages/sklearn/linear_model/_logistic.py:458: ConvergenceWarning: lbfgs failed to converge (status=1):\n",
      "STOP: TOTAL NO. of ITERATIONS REACHED LIMIT.\n",
      "\n",
      "Increase the number of iterations (max_iter) or scale the data as shown in:\n",
      "    https://scikit-learn.org/stable/modules/preprocessing.html\n",
      "Please also refer to the documentation for alternative solver options:\n",
      "    https://scikit-learn.org/stable/modules/linear_model.html#logistic-regression\n",
      "  n_iter_i = _check_optimize_result(\n"
     ]
    },
    {
     "name": "stdout",
     "output_type": "stream",
     "text": [
      "Naïve Bayes accuracy: \n",
      "               precision    recall  f1-score   support\n",
      "\n",
      "          -1       0.83      0.75      0.79     20082\n",
      "           1       0.77      0.84      0.80     19830\n",
      "\n",
      "    accuracy                           0.80     39912\n",
      "   macro avg       0.80      0.80      0.80     39912\n",
      "weighted avg       0.80      0.80      0.80     39912\n",
      "\n",
      "Logistic Regression accuracy: \n",
      "               precision    recall  f1-score   support\n",
      "\n",
      "          -1       0.84      0.93      0.88     20082\n",
      "           1       0.92      0.82      0.87     19830\n",
      "\n",
      "    accuracy                           0.87     39912\n",
      "   macro avg       0.88      0.87      0.87     39912\n",
      "weighted avg       0.88      0.87      0.87     39912\n",
      "\n",
      "SVM accuracy: \n",
      "               precision    recall  f1-score   support\n",
      "\n",
      "          -1       0.85      0.93      0.88     20082\n",
      "           1       0.92      0.83      0.87     19830\n",
      "\n",
      "    accuracy                           0.88     39912\n",
      "   macro avg       0.88      0.88      0.88     39912\n",
      "weighted avg       0.88      0.88      0.88     39912\n",
      "\n"
     ]
    },
    {
     "name": "stderr",
     "output_type": "stream",
     "text": [
      "/home/charles/.local/lib/python3.11/site-packages/sklearn/svm/_base.py:1244: ConvergenceWarning: Liblinear failed to converge, increase the number of iterations.\n",
      "  warnings.warn(\n"
     ]
    }
   ],
   "source": [
    "X_train, X_test, y_train, y_test = train_test_split(X_ROS, y_ROS, test_size=0.4, random_state=0)\n",
    "#Naïve Bayes\n",
    "nb_clf = MultinomialNB()\n",
    "nb_clf.fit(X_train, y_train)\n",
    "\n",
    "#Logistic Regression\n",
    "lr_clf = LogisticRegression(random_state=0, solver='lbfgs',max_iter=100,n_jobs=-1)\n",
    "lr_clf.fit(X_train, y_train)\n",
    "\n",
    "#Linear SVM\n",
    "svm_clf = LinearSVC(random_state=0, tol=1e-5)\n",
    "svm_clf.fit(X_train, y_train)\n",
    "\n",
    "pred_nb = nb_clf.predict(X_test)\n",
    "pred_lr = lr_clf.predict(X_test)\n",
    "pred_svm = svm_clf.predict(X_test)\n",
    "\n",
    "\n",
    "print(f\"Naïve Bayes accuracy: \\n {classification_report(y_test, pred_nb)}\")\n",
    "print(f\"Logistic Regression accuracy: \\n {classification_report(y_test, pred_lr)}\")\n",
    "print(f\"SVM accuracy: \\n {classification_report(y_test, pred_svm)}\")"
   ]
  },
  {
   "cell_type": "code",
   "execution_count": null,
   "metadata": {},
   "outputs": [],
   "source": []
  }
 ],
 "metadata": {
  "kernelspec": {
   "display_name": "Python 3",
   "language": "python",
   "name": "python3"
  },
  "language_info": {
   "codemirror_mode": {
    "name": "ipython",
    "version": 3
   },
   "file_extension": ".py",
   "mimetype": "text/x-python",
   "name": "python",
   "nbconvert_exporter": "python",
   "pygments_lexer": "ipython3",
   "version": "3.11.1"
  },
  "orig_nbformat": 4,
  "vscode": {
   "interpreter": {
    "hash": "e7370f93d1d0cde622a1f8e1c04877d8463912d04d973331ad4851f04de6915a"
   }
  }
 },
 "nbformat": 4,
 "nbformat_minor": 2
}
