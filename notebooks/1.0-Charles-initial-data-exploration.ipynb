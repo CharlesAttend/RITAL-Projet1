{
 "cells": [
  {
   "cell_type": "code",
   "execution_count": 61,
   "metadata": {},
   "outputs": [],
   "source": [
    "import sys\n",
    "sys.path.append('../')\n",
    "from src import load_dataset\n",
    "\n",
    "from nltk.corpus import stopwords\n",
    "from sklearn.feature_extraction.text import CountVectorizer, strip_accents_unicode\n",
    "from nltk.stem.snowball import FrenchStemmer\n",
    "from wordcloud import WordCloud"
   ]
  },
  {
   "cell_type": "code",
   "execution_count": 10,
   "metadata": {},
   "outputs": [],
   "source": [
    "X, y = load_dataset()"
   ]
  },
  {
   "cell_type": "code",
   "execution_count": 133,
   "metadata": {},
   "outputs": [],
   "source": [
    "stemmer = FrenchStemmer()\n",
    "stopwords_list = stopwords.words('french')[:66] #on cut avant les différentes formes du verbe être/avoir qui seront handle par le stemmer\n",
    "\n",
    "baseVectorizer = CountVectorizer(strip_accents=\"ascii\", stop_words=stopwords_list)\n",
    "preprocess = baseVectorizer.build_preprocessor()\n",
    "analyzer = baseVectorizer.build_analyzer()\n",
    "def mixed_analyzer(doc):\n",
    "    \"\"\"\n",
    "    Stem avec nltk + regarde les stopwords\n",
    "    \"\"\"\n",
    "    preprocess_doc = preprocess(doc)\n",
    "    tokenized_list = analyzer(preprocess_doc)\n",
    "    return [stemmer.stem(w) for w in tokenized_list]\n",
    "    # return tokenized_list"
   ]
  },
  {
   "cell_type": "code",
   "execution_count": 134,
   "metadata": {},
   "outputs": [],
   "source": [
    "vectorizer = CountVectorizer(\n",
    "    analyzer=mixed_analyzer,\n",
    "    )\n",
    "X_transformed = vectorizer.fit_transform(X)"
   ]
  },
  {
   "cell_type": "code",
   "execution_count": 135,
   "metadata": {},
   "outputs": [
    {
     "data": {
      "text/plain": [
       "array(['absenc', 'absent', 'absente', 'absolu', 'absolus', 'absolut',\n",
       "       'absorb', 'absorpt', 'absten', 'abstent', 'abstention', 'abstenu',\n",
       "       'abstract', 'abstrair', 'abstrait', 'absurd', 'absurdit', 'abuj',\n",
       "       'abus', 'abym', 'acad', 'academ', 'academicien', 'acadien',\n",
       "       'acapulco', 'accabl', 'accablent', 'accapar', 'acce', 'acced',\n",
       "       'accedent', 'accederent', 'accel', 'acceler', 'accelere',\n",
       "       'accelerent', 'accent', 'accentu', 'accentue', 'accentuent',\n",
       "       'accept', 'accepte', 'acceptent', 'accepton', 'access',\n",
       "       'accessibilit', 'accessibl', 'accessoir', 'accident', 'accidentel',\n",
       "       'acclam', 'acclimat', 'accol', 'accommod', 'accommodent',\n",
       "       'accomod', 'accompagn', 'accompagne', 'accompagnent',\n",
       "       'accompagnon', 'accompl', 'accord', 'accorde', 'accordent',\n",
       "       'accordon', 'accost', 'accouch', 'accourt', 'accredit', 'accroch',\n",
       "       'accrochag', 'accroche', 'accroiss', 'accroissement',\n",
       "       'accroissent', 'accroit', 'accroitr', 'accroitront', 'accroup',\n",
       "       'accru', 'accrus', 'acct', 'accueil', 'accueillent', 'accueillon',\n",
       "       'accul', 'accultur', 'accumul', 'accumule', 'accumulent', 'accus',\n",
       "       'accusent', 'acere', 'acharn', 'acharne', 'acharnent', 'achat',\n",
       "       'achemin', 'acheminent', 'achet'], dtype=object)"
      ]
     },
     "execution_count": 135,
     "metadata": {},
     "output_type": "execute_result"
    }
   ],
   "source": [
    "words = vectorizer.get_feature_names_out()\n",
    "words[400:500]"
   ]
  },
  {
   "attachments": {},
   "cell_type": "markdown",
   "metadata": {},
   "source": [
    "# Prediction"
   ]
  },
  {
   "cell_type": "code",
   "execution_count": 139,
   "metadata": {},
   "outputs": [
    {
     "ename": "NameError",
     "evalue": "name 'pie' is not defined",
     "output_type": "error",
     "traceback": [
      "\u001b[0;31m---------------------------------------------------------------------------\u001b[0m",
      "\u001b[0;31mNameError\u001b[0m                                 Traceback (most recent call last)",
      "Cell \u001b[0;32mIn[139], line 2\u001b[0m\n\u001b[1;32m      1\u001b[0m \u001b[39mimport\u001b[39;00m \u001b[39mmatplotlib\u001b[39;00m\u001b[39m.\u001b[39;00m\u001b[39mpyplot\u001b[39;00m \u001b[39mas\u001b[39;00m \u001b[39mplt\u001b[39;00m\n\u001b[0;32m----> 2\u001b[0m plt\u001b[39m.\u001b[39mplot(y, kind\u001b[39m=\u001b[39mpie)\n",
      "\u001b[0;31mNameError\u001b[0m: name 'pie' is not defined"
     ]
    }
   ],
   "source": [
    "import matplotlib.pyplot as plt\n",
    "plt.plot(y, kind=pie)"
   ]
  },
  {
   "cell_type": "code",
   "execution_count": 136,
   "metadata": {},
   "outputs": [],
   "source": [
    "from sklearn.model_selection import train_test_split\n",
    "\n",
    "# with a seed to enhence reproducibility\n",
    "X_train, X_test, y_train, y_test = train_test_split(X_transformed, y, test_size=0.4, random_state=0) "
   ]
  },
  {
   "cell_type": "code",
   "execution_count": 141,
   "metadata": {},
   "outputs": [
    {
     "name": "stderr",
     "output_type": "stream",
     "text": [
      "/home/charles/M1-S2-DAC/RITAL/TAL/Projet/RITAL-Projet1/.venv/lib/python3.8/site-packages/sklearn/linear_model/_logistic.py:458: ConvergenceWarning: lbfgs failed to converge (status=1):\n",
      "STOP: TOTAL NO. of ITERATIONS REACHED LIMIT.\n",
      "\n",
      "Increase the number of iterations (max_iter) or scale the data as shown in:\n",
      "    https://scikit-learn.org/stable/modules/preprocessing.html\n",
      "Please also refer to the documentation for alternative solver options:\n",
      "    https://scikit-learn.org/stable/modules/linear_model.html#logistic-regression\n",
      "  n_iter_i = _check_optimize_result(\n"
     ]
    },
    {
     "name": "stdout",
     "output_type": "stream",
     "text": [
      "Naïve Bayes accuracy: [[ 1217  1781]\n",
      " [  900 19068]]\n",
      "Logistic Regression accuracy: [[ 1061  1937]\n",
      " [  463 19505]]\n",
      "SVM accuracy: [[ 1223  1775]\n",
      " [  887 19081]]\n"
     ]
    },
    {
     "name": "stderr",
     "output_type": "stream",
     "text": [
      "/home/charles/M1-S2-DAC/RITAL/TAL/Projet/RITAL-Projet1/.venv/lib/python3.8/site-packages/sklearn/svm/_base.py:1244: ConvergenceWarning: Liblinear failed to converge, increase the number of iterations.\n",
      "  warnings.warn(\n"
     ]
    }
   ],
   "source": [
    "from sklearn.naive_bayes import MultinomialNB\n",
    "from sklearn.linear_model import LogisticRegression\n",
    "from sklearn.svm import LinearSVC\n",
    "from sklearn.metrics import accuracy_score, confusion_matrix\n",
    "\n",
    "\n",
    "#Naïve Bayes\n",
    "nb_clf = MultinomialNB()\n",
    "nb_clf.fit(X_train, y_train)\n",
    "\n",
    "\n",
    "#Logistic Regression\n",
    "lr_clf = LogisticRegression(random_state=0, solver='lbfgs',max_iter=100,n_jobs=-1)\n",
    "lr_clf.fit(X_train, y_train)\n",
    "\n",
    "#Linear SVM\n",
    "svm_clf = LinearSVC(random_state=0, tol=1e-5)\n",
    "svm_clf.fit(X_train, y_train)\n",
    "\n",
    "pred_nb = nb_clf.predict(X_test)\n",
    "pred_lr = lr_clf.predict(X_test)\n",
    "pred_svm = svm_clf.predict(X_test)\n",
    "\n",
    "\n",
    "print(f\"Naïve Bayes accuracy: {confusion_matrix(y_test, pred_nb)}\")\n",
    "print(f\"Logistic Regression accuracy: {confusion_matrix(y_test, pred_lr)}\")\n",
    "print(f\"SVM accuracy: {confusion_matrix(y_test, pred_svm)}\")"
   ]
  },
  {
   "cell_type": "code",
   "execution_count": null,
   "metadata": {},
   "outputs": [],
   "source": []
  }
 ],
 "metadata": {
  "kernelspec": {
   "display_name": ".venv",
   "language": "python",
   "name": "python3"
  },
  "language_info": {
   "codemirror_mode": {
    "name": "ipython",
    "version": 3
   },
   "file_extension": ".py",
   "mimetype": "text/x-python",
   "name": "python",
   "nbconvert_exporter": "python",
   "pygments_lexer": "ipython3",
   "version": "3.8.10"
  },
  "orig_nbformat": 4,
  "vscode": {
   "interpreter": {
    "hash": "7d6198d5928690c49bceb6d0c7eab000f59ae26641deaaf9dbfcbe2625254c42"
   }
  }
 },
 "nbformat": 4,
 "nbformat_minor": 2
}
