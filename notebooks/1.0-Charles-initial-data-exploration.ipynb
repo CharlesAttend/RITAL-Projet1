{
 "cells": [
  {
   "cell_type": "code",
   "execution_count": 61,
   "metadata": {},
   "outputs": [],
   "source": [
    "import sys\n",
    "sys.path.append('../')\n",
    "from src import load_dataset\n",
    "\n",
    "from nltk.corpus import stopwords\n",
    "from sklearn.feature_extraction.text import CountVectorizer, strip_accents_unicode\n",
    "from nltk.stem.snowball import FrenchStemmer\n",
    "from wordcloud import WordCloud"
   ]
  },
  {
   "cell_type": "code",
   "execution_count": 10,
   "metadata": {},
   "outputs": [],
   "source": [
    "X, y = load_dataset()"
   ]
  },
  {
   "cell_type": "code",
   "execution_count": 127,
   "metadata": {},
   "outputs": [
    {
     "name": "stderr",
     "output_type": "stream",
     "text": [
      "/home/charles/M1-S2-DAC/RITAL/TAL/Projet/RITAL-Projet1/.venv/lib/python3.8/site-packages/sklearn/feature_extraction/text.py:409: UserWarning: Your stop_words may be inconsistent with your preprocessing. Tokenizing the stop words generated tokens ['meme'] not in stop_words.\n",
      "  warnings.warn(\n"
     ]
    }
   ],
   "source": [
    "stemmer = FrenchStemmer()\n",
    "stopwords_list = stopwords.words('french')[:66] #on cut avant les différentes formes du verbe être/avoir qui seront handle par le stemmer\n",
    "\n",
    "baseVectorizer = CountVectorizer(strip_accents=\"ascii\", stop_words=stopwords_list)\n",
    "preprocess = baseVectorizer.build_preprocessor()\n",
    "analyzer = baseVectorizer.build_analyzer()\n",
    "def mixed_analyzer(doc):\n",
    "    \"\"\"\n",
    "    Stem avec nltk + regarde les stopwords\n",
    "    \"\"\"\n",
    "    preprocess_doc = preprocess(doc)\n",
    "    tokenized_list = analyzer(preprocess_doc)\n",
    "    return [stemmer.stem(w) for w in tokenized_list]"
   ]
  },
  {
   "cell_type": "code",
   "execution_count": 128,
   "metadata": {},
   "outputs": [],
   "source": [
    "vectorizer = CountVectorizer(\n",
    "    analyzer=mixed_analyzer,\n",
    "    )\n",
    "X_transformed = vectorizer.fit_transform(X)"
   ]
  },
  {
   "cell_type": "code",
   "execution_count": 129,
   "metadata": {},
   "outputs": [
    {
     "data": {
      "text/plain": [
       "array(['absenc', 'absent', 'absente', 'absolu', 'absolus', 'absolut',\n",
       "       'absorb', 'absorpt', 'absten', 'abstent', 'abstention', 'abstenu',\n",
       "       'abstract', 'abstrair', 'abstrait', 'absurd', 'absurdit', 'abuj',\n",
       "       'abus', 'abym', 'acad', 'academ', 'academicien', 'acadien',\n",
       "       'acapulco', 'accabl', 'accablent', 'accapar', 'acce', 'acced',\n",
       "       'accedent', 'accederent', 'accel', 'acceler', 'accelere',\n",
       "       'accelerent', 'accent', 'accentu', 'accentue', 'accentuent',\n",
       "       'accept', 'accepte', 'acceptent', 'accepton', 'access',\n",
       "       'accessibilit', 'accessibl', 'accessoir', 'accident', 'accidentel',\n",
       "       'acclam', 'acclimat', 'accol', 'accommod', 'accommodent',\n",
       "       'accomod', 'accompagn', 'accompagne', 'accompagnent',\n",
       "       'accompagnon', 'accompl', 'accord', 'accorde', 'accordent',\n",
       "       'accordon', 'accost', 'accouch', 'accourt', 'accredit', 'accroch',\n",
       "       'accrochag', 'accroche', 'accroiss', 'accroissement',\n",
       "       'accroissent', 'accroit', 'accroitr', 'accroitront', 'accroup',\n",
       "       'accru', 'accrus', 'acct', 'accueil', 'accueillent', 'accueillon',\n",
       "       'accul', 'accultur', 'accumul', 'accumule', 'accumulent', 'accus',\n",
       "       'accusent', 'acere', 'acharn', 'acharne', 'acharnent', 'achat',\n",
       "       'achemin', 'acheminent', 'achet'], dtype=object)"
      ]
     },
     "execution_count": 129,
     "metadata": {},
     "output_type": "execute_result"
    }
   ],
   "source": [
    "words = vectorizer.get_feature_names_out()\n",
    "words[400:500]"
   ]
  }
 ],
 "metadata": {
  "kernelspec": {
   "display_name": ".venv",
   "language": "python",
   "name": "python3"
  },
  "language_info": {
   "codemirror_mode": {
    "name": "ipython",
    "version": 3
   },
   "file_extension": ".py",
   "mimetype": "text/x-python",
   "name": "python",
   "nbconvert_exporter": "python",
   "pygments_lexer": "ipython3",
   "version": "3.8.10"
  },
  "orig_nbformat": 4,
  "vscode": {
   "interpreter": {
    "hash": "7d6198d5928690c49bceb6d0c7eab000f59ae26641deaaf9dbfcbe2625254c42"
   }
  }
 },
 "nbformat": 4,
 "nbformat_minor": 2
}
