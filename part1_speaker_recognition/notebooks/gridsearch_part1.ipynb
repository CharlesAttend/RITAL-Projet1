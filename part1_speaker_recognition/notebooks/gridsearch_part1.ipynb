{
 "cells": [
  {
   "cell_type": "code",
   "execution_count": 1,
   "metadata": {},
   "outputs": [],
   "source": [
    "from __future__ import print_function\n",
    "\n",
    "import codecs\n",
    "import re\n",
    "\n",
    "from pprint import pprint\n",
    "from time import time\n",
    "import logging\n",
    "\n",
    "from nltk.corpus import stopwords\n",
    "from sklearn.datasets import fetch_20newsgroups\n",
    "from sklearn.feature_extraction.text import CountVectorizer\n",
    "from sklearn.feature_extraction.text import TfidfTransformer\n",
    "from sklearn.linear_model import SGDClassifier\n",
    "from sklearn.model_selection import GridSearchCV\n",
    "from sklearn.pipeline import Pipeline\n",
    "from sklearn.naive_bayes import MultinomialNB\n",
    "from sklearn.linear_model import LogisticRegression\n",
    "from sklearn.svm import LinearSVC"
   ]
  },
  {
   "cell_type": "code",
   "execution_count": 2,
   "metadata": {},
   "outputs": [],
   "source": [
    "def load_speaker(path=\"../data/raw/corpus.tache1.learn.utf8\"):\n",
    "    corpus = []\n",
    "    classes = []\n",
    "    f = codecs.open(path, \"r\", \"utf-8\")  # pour régler le codage\n",
    "    while True:\n",
    "        texte = f.readline()\n",
    "        if (len(texte)) < 5:\n",
    "            break\n",
    "        label = re.sub(r\"<\\d*:\\d*:(.)>.*\", \"\\\\1\", texte)\n",
    "        texte = re.sub(r\"<\\d*:\\d*:.>(.*)\", \"\\\\1\", texte)\n",
    "        if label.count(\"M\") > 0:\n",
    "            classes.append(-1)\n",
    "        else:\n",
    "            classes.append(1)\n",
    "        corpus.append(texte)\n",
    "    return corpus, classes\n"
   ]
  },
  {
   "cell_type": "code",
   "execution_count": 3,
   "metadata": {},
   "outputs": [],
   "source": [
    "X, y = load_speaker()"
   ]
  },
  {
   "cell_type": "code",
   "execution_count": 4,
   "metadata": {},
   "outputs": [
    {
     "name": "stdout",
     "output_type": "stream",
     "text": [
      "Automatically created module for IPython interactive environment\n",
      "57413 documents\n",
      "57413 categories\n",
      "\n"
     ]
    }
   ],
   "source": [
    "print(__doc__)\n",
    "\n",
    "# Display progress logs on stdout\n",
    "logging.basicConfig(level=logging.INFO,\n",
    "                    format='%(asctime)s %(levelname)s %(message)s')\n",
    "\n",
    "print(\"%d documents\" % len(X))\n",
    "print(\"%d categories\" % len(y))\n",
    "print()"
   ]
  },
  {
   "cell_type": "code",
   "execution_count": 46,
   "metadata": {},
   "outputs": [
    {
     "name": "stdout",
     "output_type": "stream",
     "text": [
      "Performing grid search...\n",
      "pipeline: ['vect', 'tfidf', 'nb']\n",
      "parameters:\n",
      "{'vect__max_features': (90000, 100000, 130000)}\n",
      "Fitting 5 folds for each of 3 candidates, totalling 15 fits\n",
      "done in 11.353s\n",
      "\n",
      "Best score: 0.751\n",
      "Best parameters set:\n",
      "\tvect__max_features: 100000\n"
     ]
    }
   ],
   "source": [
    "# #############################################################################\n",
    "# Define a pipeline combining a text feature extractor with a simple\n",
    "# classifier\n",
    "pipeline = Pipeline(\n",
    "    [\n",
    "        (\n",
    "            \"vect\",\n",
    "            CountVectorizer(\n",
    "                \n",
    "                ngram_range=(1, 2),\n",
    "                max_df=0.5,\n",
    "                lowercase=False,\n",
    "                strip_accents=None,\n",
    "                binary=True\n",
    "            ),\n",
    "        ),\n",
    "        (\n",
    "            \"tfidf\",\n",
    "            TfidfTransformer(\n",
    "                use_idf=True, norm=\"l2\", smooth_idf=True, sublinear_tf=False\n",
    "            ),\n",
    "        ),\n",
    "        (\"nb\", MultinomialNB(alpha=0.3, fit_prior=False)),\n",
    "    ]\n",
    ")\n",
    "\n",
    "# uncommenting more parameters will give better exploring power but will\n",
    "# increase processing time in a combinatorial way\n",
    "parameters = {\n",
    "    \"vect__max_features\": (90000, 100000, 130000),\n",
    "}\n",
    "\n",
    "\n",
    "if __name__ == \"__main__\":\n",
    "    # multiprocessing requires the fork to happen in a __main__ protected\n",
    "    # block\n",
    "\n",
    "    # find the best parameters for both the feature extraction and the\n",
    "    # classifier\n",
    "    grid_search = GridSearchCV(\n",
    "        pipeline, parameters, n_jobs=-1, verbose=1, scoring=\"f1_macro\"\n",
    "    )\n",
    "\n",
    "    print(\"Performing grid search...\")\n",
    "    print(\"pipeline:\", [name for name, _ in pipeline.steps])\n",
    "    print(\"parameters:\")\n",
    "    pprint(parameters)\n",
    "    t0 = time()\n",
    "    grid_search.fit(X, y)\n",
    "    print(\"done in %0.3fs\" % (time() - t0))\n",
    "    print()\n",
    "\n",
    "    print(\"Best score: %0.3f\" % grid_search.best_score_)\n",
    "    print(\"Best parameters set:\")\n",
    "    best_parameters = grid_search.best_estimator_.get_params()\n",
    "    for param_name in sorted(parameters.keys()):\n",
    "        print(\"\\t%s: %r\" % (param_name, best_parameters[param_name]))\n"
   ]
  },
  {
   "attachments": {},
   "cell_type": "markdown",
   "metadata": {},
   "source": [
    "Raw BoW: best results:\n",
    "alpha=0.25, fit_prior=False"
   ]
  },
  {
   "cell_type": "code",
   "execution_count": 39,
   "metadata": {},
   "outputs": [
    {
     "name": "stdout",
     "output_type": "stream",
     "text": [
      "Performing grid search...\n",
      "pipeline: ['vect', 'tfidf', 'nb']\n",
      "parameters:\n",
      "{'nb__alpha': (0, 0.25, 0.5, 0.75, 1.0, 10), 'nb__fit_prior': (True, False)}\n",
      "Fitting 5 folds for each of 12 candidates, totalling 60 fits\n",
      "done in 27.678s\n",
      "\n",
      "Best score: 0.751\n",
      "Best parameters set:\n",
      "\tnb__alpha: 0.25\n",
      "\tnb__fit_prior: True\n"
     ]
    }
   ],
   "source": [
    "# #############################################################################\n",
    "# Define a pipeline combining a text feature extractor with a simple\n",
    "# classifier\n",
    "pipeline = Pipeline(\n",
    "    [\n",
    "        (\n",
    "            \"vect\",\n",
    "            CountVectorizer(\n",
    "                max_df=0.5,\n",
    "                stop_words=stopwords.words(\"french\"),\n",
    "                lowercase=False,\n",
    "                strip_accents=None,\n",
    "                max_features=10000,\n",
    "                ngram_range=(1,2),\n",
    "                binary=True),\n",
    "        ),\n",
    "        (\n",
    "            \"tfidf\",\n",
    "            TfidfTransformer(norm=None, use_idf=False, sublinear_tf=False,smooth_idf=False),\n",
    "        ),\n",
    "        (\"nb\", MultinomialNB()),\n",
    "    ]\n",
    ")\n",
    "\n",
    "# uncommenting more parameters will give better exploring power but will\n",
    "# increase processing time in a combinatorial way\n",
    "parameters = {    \n",
    "    #\"vect__min_df\": (0.01, 0.05, 0.15, 0.30, 1),\n",
    "    #\"vect__max_df\": (0.5, 0.75, 0.9, 1.0),\n",
    "    #\"vect__max_features\": (None, 10000, 50000, 100000),\n",
    "    #\"vect__stop_words\": (None, stopwords.words(\"french\")),\n",
    "    #\"vect__ngram_range\": ((1, 1), (1, 2), (2, 2), (2,3), (3,3)),  # unigrams or bigrams\n",
    "    #\"vect__binary\": (True, False),\n",
    "    #\"tfidf__use_idf\": (True, False),\n",
    "    #\"tfidf__norm\": (None, \"l1\", \"l2\"),\n",
    "    #\"tfidf__smooth_idf\": (True, False),\n",
    "    #\"tfidf__sublinear_tf\": (False, True),\n",
    "    \"nb__alpha\": (0, 0.25, 0.5, 0.75, 1.0, 10),\n",
    "    \"nb__fit_prior\": (True, False),\n",
    "    }\n",
    "\n",
    "\n",
    "if __name__ == \"__main__\":\n",
    "    # multiprocessing requires the fork to happen in a __main__ protected\n",
    "    # block\n",
    "\n",
    "    # find the best parameters for both the feature extraction and the\n",
    "    # classifier\n",
    "    grid_search = GridSearchCV(\n",
    "        pipeline, parameters, n_jobs=-1, verbose=1, scoring=\"f1_macro\"\n",
    "    )\n",
    "\n",
    "    print(\"Performing grid search...\")\n",
    "    print(\"pipeline:\", [name for name, _ in pipeline.steps])\n",
    "    print(\"parameters:\")\n",
    "    pprint(parameters)\n",
    "    t0 = time()\n",
    "    grid_search.fit(X, y)\n",
    "    print(\"done in %0.3fs\" % (time() - t0))\n",
    "    print()\n",
    "\n",
    "    print(\"Best score: %0.3f\" % grid_search.best_score_)\n",
    "    print(\"Best parameters set:\")\n",
    "    best_parameters = grid_search.best_estimator_.get_params()\n",
    "    for param_name in sorted(parameters.keys()):\n",
    "        print(\"\\t%s: %r\" % (param_name, best_parameters[param_name]))\n"
   ]
  },
  {
   "cell_type": "code",
   "execution_count": null,
   "metadata": {},
   "outputs": [],
   "source": []
  }
 ],
 "metadata": {
  "kernelspec": {
   "display_name": "base",
   "language": "python",
   "name": "python3"
  },
  "language_info": {
   "codemirror_mode": {
    "name": "ipython",
    "version": 3
   },
   "file_extension": ".py",
   "mimetype": "text/x-python",
   "name": "python",
   "nbconvert_exporter": "python",
   "pygments_lexer": "ipython3",
   "version": "3.9.13"
  },
  "orig_nbformat": 4,
  "vscode": {
   "interpreter": {
    "hash": "2fab8bb58872eea954be60fe26736758986b2ee88847f90b9cf8ff99eebe69e4"
   }
  }
 },
 "nbformat": 4,
 "nbformat_minor": 2
}
