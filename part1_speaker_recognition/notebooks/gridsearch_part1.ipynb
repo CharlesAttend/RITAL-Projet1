{
 "cells": [
  {
   "cell_type": "code",
   "execution_count": 1,
   "metadata": {},
   "outputs": [],
   "source": [
    "from __future__ import print_function\n",
    "\n",
    "import codecs\n",
    "import re\n",
    "\n",
    "from pprint import pprint\n",
    "from time import time\n",
    "import logging\n",
    "\n",
    "from nltk.corpus import stopwords\n",
    "from sklearn.datasets import fetch_20newsgroups\n",
    "from sklearn.feature_extraction.text import CountVectorizer\n",
    "from sklearn.feature_extraction.text import TfidfTransformer\n",
    "from sklearn.linear_model import SGDClassifier\n",
    "from sklearn.model_selection import GridSearchCV\n",
    "from sklearn.pipeline import Pipeline\n",
    "from sklearn.naive_bayes import MultinomialNB\n",
    "from sklearn.linear_model import LogisticRegression\n",
    "from sklearn.svm import LinearSVC"
   ]
  },
  {
   "cell_type": "code",
   "execution_count": 2,
   "metadata": {},
   "outputs": [],
   "source": [
    "def load_speaker(path=\"../data/raw/corpus.tache1.learn.utf8\"):\n",
    "    corpus = []\n",
    "    classes = []\n",
    "    f = codecs.open(path, \"r\", \"utf-8\")  # pour régler le codage\n",
    "    while True:\n",
    "        texte = f.readline()\n",
    "        if (len(texte)) < 5:\n",
    "            break\n",
    "        label = re.sub(r\"<\\d*:\\d*:(.)>.*\", \"\\\\1\", texte)\n",
    "        texte = re.sub(r\"<\\d*:\\d*:.>(.*)\", \"\\\\1\", texte)\n",
    "        if label.count(\"M\") > 0:\n",
    "            classes.append(-1)\n",
    "        else:\n",
    "            classes.append(1)\n",
    "        corpus.append(texte)\n",
    "    return corpus, classes\n"
   ]
  },
  {
   "cell_type": "code",
   "execution_count": 3,
   "metadata": {},
   "outputs": [],
   "source": [
    "X, y = load_speaker()"
   ]
  },
  {
   "cell_type": "code",
   "execution_count": 7,
   "metadata": {},
   "outputs": [
    {
     "name": "stdout",
     "output_type": "stream",
     "text": [
      "Automatically created module for IPython interactive environment\n",
      "57413 documents\n",
      "57413 categories\n",
      "\n"
     ]
    }
   ],
   "source": [
    "print(__doc__)\n",
    "\n",
    "# Display progress logs on stdout\n",
    "logging.basicConfig(level=logging.INFO,\n",
    "                    format='%(asctime)s %(levelname)s %(message)s')\n",
    "\n",
    "print(\"%d documents\" % len(X))\n",
    "print(\"%d categories\" % len(y))\n",
    "print()"
   ]
  },
  {
   "cell_type": "code",
   "execution_count": 9,
   "metadata": {},
   "outputs": [
    {
     "name": "stdout",
     "output_type": "stream",
     "text": [
      "Performing grid search...\n",
      "pipeline: ['vect', 'tfidf', 'clf']\n",
      "parameters:\n",
      "{'clf__alpha': (1e-05, 1e-06),\n",
      " 'clf__penalty': ('l2', 'elasticnet'),\n",
      " 'tfidf__norm': ('l1', 'l2'),\n",
      " 'tfidf__use_idf': (True, False),\n",
      " 'vect__max_df': (0.5, 0.75, 1.0),\n",
      " 'vect__max_features': (None, 5000, 10000, 50000),\n",
      " 'vect__ngram_range': ((1, 1), (1, 2), (2, 2))}\n",
      "Fitting 5 folds for each of 576 candidates, totalling 2880 fits\n",
      "done in 1078.940s\n",
      "\n",
      "Best score: 0.909\n",
      "Best parameters set:\n",
      "\tclf__alpha: 1e-05\n",
      "\tclf__penalty: 'elasticnet'\n",
      "\ttfidf__norm: 'l2'\n",
      "\ttfidf__use_idf: True\n",
      "\tvect__max_df: 1.0\n",
      "\tvect__max_features: None\n",
      "\tvect__ngram_range: (1, 2)\n"
     ]
    }
   ],
   "source": [
    "\n",
    "\n",
    "# #############################################################################\n",
    "# Define a pipeline combining a text feature extractor with a simple\n",
    "# classifier\n",
    "pipeline = Pipeline(\n",
    "    [\n",
    "        (\"vect\", CountVectorizer()),\n",
    "        (\"tfidf\", TfidfTransformer()),\n",
    "        (\"nb\", MultinomialNB()),\n",
    "    ]\n",
    ")\n",
    "\n",
    "# uncommenting more parameters will give better exploring power but will\n",
    "# increase processing time in a combinatorial way\n",
    "parameters = {\n",
    "    \"vect__min_df\": (0.05, 0.1, 0.2, 0.5),\n",
    "    \"vect__max_df\": (0.5, 0.75, 1.0),\n",
    "    \"vect__max_features\": (None, 5000, 10000, 50000),\n",
    "    \"vect__lowercase\": (False, True),\n",
    "    \"vect__strip_accents\": (None, \"unicode\"),\n",
    "    \"vect__stop_words\": (None, stopwords.words('french')),\n",
    "    \"vect__ngram_range\": ((1, 1), (1, 2), (2, 2)),  # unigrams or bigrams\n",
    "    \"vect_binary\": (True, False),\n",
    "    \"tfidf__use_idf\": (True, False),\n",
    "    \"tfidf__norm\": (None, \"l1\", \"l2\"),\n",
    "    \"tfidf__smooth_idf\": (True, False),\n",
    "    \"tfidf__sublinear_tf\": (False, True),\n",
    "    \"nb__alpha\": (0, 0.1, 0.5, 1.0),\n",
    "    \"nb__force_alpha\": (False, True),\n",
    "    \"nb__fit_prior\": (True, False),\n",
    "    # \"svm__class_weight\": (None, \"balanced\"),\n",
    "}\n",
    "\n",
    "if __name__ == \"__main__\":\n",
    "    # multiprocessing requires the fork to happen in a __main__ protected\n",
    "    # block\n",
    "\n",
    "    # find the best parameters for both the feature extraction and the\n",
    "    # classifier\n",
    "    grid_search = GridSearchCV(\n",
    "        pipeline, parameters, n_jobs=-1, verbose=1, scoring=\"f1_macro\"\n",
    "    )\n",
    "\n",
    "    print(\"Performing grid search...\")\n",
    "    print(\"pipeline:\", [name for name, _ in pipeline.steps])\n",
    "    print(\"parameters:\")\n",
    "    pprint(parameters)\n",
    "    t0 = time()\n",
    "    grid_search.fit(X, y)\n",
    "    print(\"done in %0.3fs\" % (time() - t0))\n",
    "    print()\n",
    "\n",
    "    print(\"Best score: %0.3f\" % grid_search.best_score_)\n",
    "    print(\"Best parameters set:\")\n",
    "    best_parameters = grid_search.best_estimator_.get_params()\n",
    "    for param_name in sorted(parameters.keys()):\n",
    "        print(\"\\t%s: %r\" % (param_name, best_parameters[param_name]))\n"
   ]
  },
  {
   "cell_type": "code",
   "execution_count": null,
   "metadata": {},
   "outputs": [],
   "source": []
  }
 ],
 "metadata": {
  "kernelspec": {
   "display_name": "base",
   "language": "python",
   "name": "python3"
  },
  "language_info": {
   "codemirror_mode": {
    "name": "ipython",
    "version": 3
   },
   "file_extension": ".py",
   "mimetype": "text/x-python",
   "name": "python",
   "nbconvert_exporter": "python",
   "pygments_lexer": "ipython3",
   "version": "3.9.15"
  },
  "orig_nbformat": 4,
  "vscode": {
   "interpreter": {
    "hash": "2fab8bb58872eea954be60fe26736758986b2ee88847f90b9cf8ff99eebe69e4"
   }
  }
 },
 "nbformat": 4,
 "nbformat_minor": 2
}
