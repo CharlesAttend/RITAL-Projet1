{
 "cells": [
  {
   "cell_type": "code",
   "execution_count": 1,
   "metadata": {},
   "outputs": [],
   "source": [
    "from src.data import load_data, Custom_analyzer\n",
    "from src.eval import eval_from_config\n",
    "import pandas as pd\n",
    "from nltk.corpus import stopwords\n",
    "from sklearn.feature_extraction.text import CountVectorizer\n",
    "from sklearn.model_selection import train_test_split"
   ]
  },
  {
   "cell_type": "code",
   "execution_count": 2,
   "metadata": {},
   "outputs": [],
   "source": [
    "X, y = load_data()"
   ]
  },
  {
   "cell_type": "code",
   "execution_count": 5,
   "metadata": {},
   "outputs": [
    {
     "name": "stdout",
     "output_type": "stream",
     "text": [
      "\n",
      "    Naïve Bayes :\n",
      "    =====\n",
      "    Macro F1-score : 0.7361042069042575\n",
      "    Micro F1-score : 0.8921554967256514\n",
      "    Macro ROC-AUC: 0.7125483613153725\n",
      "    Weighted ROC-AUC: 0.7125483613153725\n",
      "    Classification report :\n",
      "                  precision    recall  f1-score   support\n",
      "\n",
      "          -1       0.62      0.47      0.53      1885\n",
      "           1       0.92      0.96      0.94     12469\n",
      "\n",
      "    accuracy                           0.89     14354\n",
      "   macro avg       0.77      0.71      0.74     14354\n",
      "weighted avg       0.88      0.89      0.89     14354\n",
      "\n",
      "    =====\n",
      "    \n",
      "\n",
      "    Logistic Regression :\n",
      "    =====\n",
      "    Macro F1-score : 0.7317690739951717\n",
      "    Micro F1-score : 0.9021178765500906\n",
      "    Macro ROC-AUC: 0.6892379041667899\n",
      "    Weighted ROC-AUC: 0.6892379041667899\n",
      "    Classification report :\n",
      "                  precision    recall  f1-score   support\n",
      "\n",
      "          -1       0.73      0.40      0.52      1885\n",
      "           1       0.92      0.98      0.95     12469\n",
      "\n",
      "    accuracy                           0.90     14354\n",
      "   macro avg       0.82      0.69      0.73     14354\n",
      "weighted avg       0.89      0.90      0.89     14354\n",
      "\n",
      "    =====\n",
      "    \n",
      "\n",
      "    SVM :\n",
      "    =====\n",
      "    Macro F1-score : 0.7265327580141725\n",
      "    Micro F1-score : 0.8860248014490735\n",
      "    Macro ROC-AUC: 0.7076686947555668\n",
      "    Weighted ROC-AUC: 0.7076686947555668\n",
      "    Classification report :\n",
      "                  precision    recall  f1-score   support\n",
      "\n",
      "          -1       0.58      0.47      0.52      1885\n",
      "           1       0.92      0.95      0.94     12469\n",
      "\n",
      "    accuracy                           0.89     14354\n",
      "   macro avg       0.75      0.71      0.73     14354\n",
      "weighted avg       0.88      0.89      0.88     14354\n",
      "\n",
      "    =====\n",
      "    \n"
     ]
    }
   ],
   "source": [
    "analyzer = Custom_analyzer(\"default_config\")\n",
    "X_train, X_test, y_train, y_test = train_test_split(X, y)\n",
    "eval_from_config(X_train, X_test, y_train, y_test, \"default_config\", saveName=\"Test1\")"
   ]
  },
  {
   "cell_type": "code",
   "execution_count": null,
   "metadata": {},
   "outputs": [],
   "source": []
  }
 ],
 "metadata": {
  "kernelspec": {
   "display_name": "Python 3",
   "language": "python",
   "name": "python3"
  },
  "language_info": {
   "codemirror_mode": {
    "name": "ipython",
    "version": 3
   },
   "file_extension": ".py",
   "mimetype": "text/x-python",
   "name": "python",
   "nbconvert_exporter": "python",
   "pygments_lexer": "ipython3",
   "version": "3.8.10"
  },
  "orig_nbformat": 4,
  "vscode": {
   "interpreter": {
    "hash": "916dbcbb3f70747c44a77c7bcd40155683ae19c65e1c03b4aa3499c5328201f1"
   }
  }
 },
 "nbformat": 4,
 "nbformat_minor": 2
}
