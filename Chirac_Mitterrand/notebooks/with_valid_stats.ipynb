{
 "cells": [
  {
   "cell_type": "code",
   "execution_count": 1,
   "metadata": {},
   "outputs": [
    {
     "name": "stderr",
     "output_type": "stream",
     "text": [
      "[nltk_data] Downloading package stopwords to\n",
      "[nltk_data]     /home/charles/nltk_data...\n",
      "[nltk_data]   Package stopwords is already up-to-date!\n"
     ]
    }
   ],
   "source": [
    "import sys\n",
    "sys.path.append('../')\n",
    "from src import load_dataset\n",
    "\n",
    "from nltk.corpus import stopwords\n",
    "from sklearn.feature_extraction.text import CountVectorizer\n",
    "from nltk.stem.snowball import FrenchStemmer\n",
    "from wordcloud import WordCloud\n",
    "import numpy as np\n",
    "import pandas as pd\n",
    "import matplotlib.pyplot as plt"
   ]
  },
  {
   "cell_type": "code",
   "execution_count": 2,
   "metadata": {},
   "outputs": [],
   "source": [
    "X, y = load_dataset()\n",
    "X_valid, y_valid = load_dataset(\"../data/raw/corpus.tache1.test.utf8\")"
   ]
  },
  {
   "cell_type": "code",
   "execution_count": 3,
   "metadata": {},
   "outputs": [],
   "source": [
    "from sklearn.naive_bayes import MultinomialNB\n",
    "from sklearn.linear_model import LogisticRegression\n",
    "from sklearn.svm import LinearSVC\n",
    "from sklearn.metrics import classification_report, f1_score, roc_auc_score\n",
    "\n",
    "def print_score(y_test, pred, name):\n",
    "    reports = f\"\"\"\n",
    "    Macro F1-score : {f1_score(y_test, pred, average='macro')}\n",
    "    Micro F1-score : {f1_score(y_test, pred, average='micro')}\n",
    "    Macro ROC-AUC: {roc_auc_score(y_test, pred)}\n",
    "    Weighted ROC-AUC: {roc_auc_score(y_test, pred, average=\"weighted\")}\n",
    "    Classification report :\n",
    "    {classification_report(y_test, pred)}\n",
    "    \"\"\"\n",
    "    print(name, ':')\n",
    "    print(reports)\n",
    "\n",
    "def eval(X_train, y_train, X_test, y_test, balanced=None):\n",
    "    #Naïve Bayes\n",
    "    if balanced==None:\n",
    "        nb_clf = MultinomialNB()\n",
    "    else:\n",
    "        balanced = \"balanced\"\n",
    "        nb_clf = MultinomialNB(fit_prior=True)\n",
    "    nb_clf.fit(X_train, y_train)\n",
    "\n",
    "    #Logistic Regression\n",
    "    lr_clf = LogisticRegression(random_state=0, solver='lbfgs',n_jobs=-1, max_iter=10000, class_weight=balanced)\n",
    "    lr_clf.fit(X_train, y_train)\n",
    "\n",
    "    #Linear SVM\n",
    "    svm_clf = LinearSVC(random_state=0, tol=1e-5, max_iter=10000, class_weight=balanced)\n",
    "    svm_clf.fit(X_train, y_train)\n",
    "\n",
    "    pred_nb = nb_clf.predict(X_test)\n",
    "    pred_lr = lr_clf.predict(X_test)\n",
    "    pred_svm = svm_clf.predict(X_test)\n",
    "\n",
    "    print_score(y_test, pred_nb, 'Naïve Bayes')\n",
    "    print_score(y_test, pred_lr, 'Logistic Regression')\n",
    "    print_score(y_test, pred_svm, 'SVM')"
   ]
  },
  {
   "cell_type": "code",
   "execution_count": 4,
   "metadata": {},
   "outputs": [],
   "source": [
    "stemmer = FrenchStemmer()\n",
    "stopwords_list = stopwords.words('french')[:66] #on cut avant les différentes formes du verbe être/avoir qui seront handle par le stemmer\n",
    "\n",
    "\n",
    "class Mixed_analyzer():\n",
    "    def __init__(self, baseVectorizer=CountVectorizer(), stemmer=None) -> None:\n",
    "        \"\"\"\n",
    "        :param baseVectorizer : un vectorizer de Sklearn déjà custom sans analyser\n",
    "        :param stemmer : un stemmer si besoin\n",
    "        \"\"\"\n",
    "        self.preprocess = baseVectorizer.build_preprocessor()\n",
    "        self.tokenizer = baseVectorizer.build_tokenizer()\n",
    "        self.analyzer = baseVectorizer.build_analyzer()\n",
    "\n",
    "        self.stemmer = stemmer\n",
    "\n",
    "    def __call__(self, doc):\n",
    "        \"\"\"\n",
    "        Stem avec nltk + regarde les stopwords\n",
    "        \"\"\"\n",
    "        # Preprocessing : \n",
    "        #   Takes an entire document as input (as a single string), and returns a possibly transformed version of the document, still as an entire string. \n",
    "        #   This can be used to remove HTML tags, lowercase the entire document, etc.\n",
    "        # preprocess_doc = preprocess(doc)\n",
    "    \n",
    "        # Tokenizer :\n",
    "        #   a callable that takes the output from the preprocessor \n",
    "        #   and splits it into tokens, then returns a list of these.\n",
    "        \n",
    "        # N-gram extraction and stop word filtering take place at the analyzer level\n",
    "        \n",
    "        # Ici il preprocess + tokenise à partir du baseVectorizer\n",
    "        # * strip accent\n",
    "        # * Stop word\n",
    "        tokenized_list = self.analyzer(doc)\n",
    "    \n",
    "        # Stemming\n",
    "        if self.stemmer != None:\n",
    "            return [stemmer.stem(w) for w in tokenized_list]\n",
    "        return tokenized_list\n",
    "    \n",
    "        # return tokenized_list"
   ]
  },
  {
   "cell_type": "code",
   "execution_count": 5,
   "metadata": {},
   "outputs": [
    {
     "name": "stderr",
     "output_type": "stream",
     "text": [
      "/home/charles/.local/lib/python3.8/site-packages/sklearn/feature_extraction/text.py:396: UserWarning: Your stop_words may be inconsistent with your preprocessing. Tokenizing the stop words generated tokens ['meme'] not in stop_words.\n",
      "  warnings.warn(\n"
     ]
    }
   ],
   "source": [
    "mixed_analyzer = Mixed_analyzer(CountVectorizer(\n",
    "    strip_accents=\"ascii\",\n",
    "    stop_words=stopwords_list,\n",
    "), FrenchStemmer())\n",
    "\n",
    "vectorizer = CountVectorizer(\n",
    "    analyzer=mixed_analyzer,\n",
    "    )\n",
    "X_transformed = vectorizer.fit_transform(X)\n",
    "X_valid = vectorizer.transform(X_valid)"
   ]
  },
  {
   "cell_type": "code",
   "execution_count": 6,
   "metadata": {},
   "outputs": [
    {
     "data": {
      "text/plain": [
       "array(['absenc', 'absent', 'absente', 'absolu', 'absolus', 'absolut',\n",
       "       'absorb', 'absorpt', 'absten', 'abstent', 'abstention', 'abstenu',\n",
       "       'abstract', 'abstrair', 'abstrait', 'absurd', 'absurdit', 'abuj',\n",
       "       'abus', 'abym', 'acad', 'academ', 'academicien', 'acadien',\n",
       "       'acapulco', 'accabl', 'accablent', 'accapar', 'acce', 'acced',\n",
       "       'accedent', 'accederent', 'accel', 'acceler', 'accelere',\n",
       "       'accelerent', 'accent', 'accentu', 'accentue', 'accentuent',\n",
       "       'accept', 'accepte', 'acceptent', 'accepton', 'access',\n",
       "       'accessibilit', 'accessibl', 'accessoir', 'accident', 'accidentel',\n",
       "       'acclam', 'acclimat', 'accol', 'accommod', 'accommodent',\n",
       "       'accomod', 'accompagn', 'accompagne', 'accompagnent',\n",
       "       'accompagnon', 'accompl', 'accord', 'accorde', 'accordent',\n",
       "       'accordon', 'accost', 'accouch', 'accourt', 'accredit', 'accroch',\n",
       "       'accrochag', 'accroche', 'accroiss', 'accroissement',\n",
       "       'accroissent', 'accroit', 'accroitr', 'accroitront', 'accroup',\n",
       "       'accru', 'accrus', 'acct', 'accueil', 'accueillent', 'accueillon',\n",
       "       'accul', 'accultur', 'accumul', 'accumule', 'accumulent', 'accus',\n",
       "       'accusent', 'acere', 'acharn', 'acharne', 'acharnent', 'achat',\n",
       "       'achemin', 'acheminent', 'achet'], dtype=object)"
      ]
     },
     "execution_count": 6,
     "metadata": {},
     "output_type": "execute_result"
    }
   ],
   "source": [
    "words = vectorizer.get_feature_names_out()\n",
    "words[400:500]"
   ]
  },
  {
   "attachments": {},
   "cell_type": "markdown",
   "metadata": {},
   "source": [
    "# Prediction"
   ]
  },
  {
   "cell_type": "code",
   "execution_count": 7,
   "metadata": {},
   "outputs": [
    {
     "data": {
      "text/plain": [
       "<AxesSubplot:ylabel='None'>"
      ]
     },
     "execution_count": 7,
     "metadata": {},
     "output_type": "execute_result"
    },
    {
     "data": {
      "image/png": "[encoded data removed]",
      "text/plain": [
       "<Figure size 432x288 with 1 Axes>"
      ]
     },
     "metadata": {},
     "output_type": "display_data"
    }
   ],
   "source": [
    "# plt.plot(y, kind=pie)\n",
    "pd.Series(y).value_counts().plot.pie(autopct='%1.1f%%')"
   ]
  },
  {
   "attachments": {},
   "cell_type": "markdown",
   "metadata": {},
   "source": [
    "Un des deux ne parle pas beaucoup. Il vas falloir équilibrer les classes"
   ]
  },
  {
   "cell_type": "code",
   "execution_count": 8,
   "metadata": {},
   "outputs": [
    {
     "data": {
      "image/png": "[encoded data removed]",
      "text/plain": [
       "<Figure size 432x288 with 1 Axes>"
      ]
     },
     "metadata": {},
     "output_type": "display_data"
    },
    {
     "data": {
      "text/plain": [
       "<AxesSubplot:title={'center':'N: 18947'}, ylabel='None'>"
      ]
     },
     "execution_count": 8,
     "metadata": {},
     "output_type": "execute_result"
    },
    {
     "data": {
      "image/png": "[encoded data removed]",
      "text/plain": [
       "<Figure size 432x288 with 1 Axes>"
      ]
     },
     "metadata": {},
     "output_type": "display_data"
    }
   ],
   "source": [
    "from sklearn.model_selection import train_test_split\n",
    "\n",
    "# with a seed to enhence reproducibility\n",
    "X_train, X_test, y_train, y_test = train_test_split(X_transformed, y, test_size=0.33, random_state=0, stratify=y)\n",
    "pd.Series(y_train).value_counts().plot.pie(autopct='%1.1f%%', title=f'N: {len(y_train)}')\n",
    "plt.show()\n",
    "pd.Series(y_test).value_counts().plot.pie(autopct='%1.1f%%', title=f'N: {len(y_test)}')"
   ]
  },
  {
   "cell_type": "code",
   "execution_count": 9,
   "metadata": {},
   "outputs": [
    {
     "name": "stdout",
     "output_type": "stream",
     "text": [
      "Naïve Bayes :\n",
      "\n",
      "    Macro F1-score : 0.7177409085981219\n",
      "    Micro F1-score : 0.884308861561197\n",
      "    Macro ROC-AUC: 0.6969374863747927\n",
      "    Weighted ROC-AUC: 0.6969374863747927\n",
      "    Classification report :\n",
      "                  precision    recall  f1-score   support\n",
      "\n",
      "          -1       0.58      0.44      0.50      2483\n",
      "           1       0.92      0.95      0.93     16464\n",
      "\n",
      "    accuracy                           0.88     18947\n",
      "   macro avg       0.75      0.70      0.72     18947\n",
      "weighted avg       0.87      0.88      0.88     18947\n",
      "\n",
      "    \n",
      "Logistic Regression :\n",
      "\n",
      "    Macro F1-score : 0.7122868489336515\n",
      "    Micro F1-score : 0.8956563044281417\n",
      "    Macro ROC-AUC: 0.6730288801557099\n",
      "    Weighted ROC-AUC: 0.6730288801557099\n",
      "    Classification report :\n",
      "                  precision    recall  f1-score   support\n",
      "\n",
      "          -1       0.69      0.37      0.48      2483\n",
      "           1       0.91      0.97      0.94     16464\n",
      "\n",
      "    accuracy                           0.90     18947\n",
      "   macro avg       0.80      0.67      0.71     18947\n",
      "weighted avg       0.88      0.90      0.88     18947\n",
      "\n",
      "    \n",
      "SVM :\n",
      "\n",
      "    Macro F1-score : 0.7141257205087911\n",
      "    Micro F1-score : 0.8829893914603895\n",
      "    Macro ROC-AUC: 0.693442253778561\n",
      "    Weighted ROC-AUC: 0.693442253778561\n",
      "    Classification report :\n",
      "                  precision    recall  f1-score   support\n",
      "\n",
      "          -1       0.57      0.44      0.49      2483\n",
      "           1       0.92      0.95      0.93     16464\n",
      "\n",
      "    accuracy                           0.88     18947\n",
      "   macro avg       0.74      0.69      0.71     18947\n",
      "weighted avg       0.87      0.88      0.88     18947\n",
      "\n",
      "    \n"
     ]
    }
   ],
   "source": [
    "eval(X_train, y_train, X_test, y_test)"
   ]
  },
  {
   "cell_type": "code",
   "execution_count": 10,
   "metadata": {},
   "outputs": [
    {
     "name": "stdout",
     "output_type": "stream",
     "text": [
      "Naïve Bayes :\n",
      "\n",
      "    Macro F1-score : 0.49462710216428396\n",
      "    Micro F1-score : 0.7808703335542302\n",
      "    Macro ROC-AUC: 0.49530682407631166\n",
      "    Weighted ROC-AUC: 0.49530682407631166\n",
      "    Classification report :\n",
      "                  precision    recall  f1-score   support\n",
      "\n",
      "          -1       0.10      0.13      0.11      2918\n",
      "           1       0.89      0.86      0.87     24244\n",
      "\n",
      "    accuracy                           0.78     27162\n",
      "   macro avg       0.50      0.50      0.49     27162\n",
      "weighted avg       0.81      0.78      0.79     27162\n",
      "\n",
      "    \n",
      "Logistic Regression :\n",
      "\n",
      "    Macro F1-score : 0.5027613711397979\n",
      "    Micro F1-score : 0.8330388042117665\n",
      "    Macro ROC-AUC: 0.503579554854637\n",
      "    Weighted ROC-AUC: 0.503579554854637\n",
      "    Classification report :\n",
      "                  precision    recall  f1-score   support\n",
      "\n",
      "          -1       0.12      0.08      0.10      2918\n",
      "           1       0.89      0.92      0.91     24244\n",
      "\n",
      "    accuracy                           0.83     27162\n",
      "   macro avg       0.50      0.50      0.50     27162\n",
      "weighted avg       0.81      0.83      0.82     27162\n",
      "\n",
      "    \n",
      "SVM :\n",
      "\n",
      "    Macro F1-score : 0.5053277397345759\n",
      "    Micro F1-score : 0.7985420808482439\n",
      "    Macro ROC-AUC: 0.5059598135202774\n",
      "    Weighted ROC-AUC: 0.5059598135202774\n",
      "    Classification report :\n",
      "                  precision    recall  f1-score   support\n",
      "\n",
      "          -1       0.12      0.13      0.12      2918\n",
      "           1       0.89      0.88      0.89     24244\n",
      "\n",
      "    accuracy                           0.80     27162\n",
      "   macro avg       0.51      0.51      0.51     27162\n",
      "weighted avg       0.81      0.80      0.80     27162\n",
      "\n",
      "    \n"
     ]
    }
   ],
   "source": [
    "eval(X_train, y_train, X_valid, y_valid)"
   ]
  },
  {
   "attachments": {},
   "cell_type": "markdown",
   "metadata": {},
   "source": [
    "## Oversampler"
   ]
  },
  {
   "attachments": {},
   "cell_type": "markdown",
   "metadata": {},
   "source": [
    "Utilisons un [Random over sampler](https://imbalanced-learn.org/stable/over_sampling.html#random-over-sampler)"
   ]
  },
  {
   "cell_type": "code",
   "execution_count": 11,
   "metadata": {},
   "outputs": [],
   "source": [
    "from imblearn.over_sampling import RandomOverSampler\n",
    "\n",
    "ros = RandomOverSampler(random_state=42)\n",
    "X_ROS_train, y_ROS_train = ros.fit_resample(X_train, y_train)\n",
    "\n",
    "ros = RandomOverSampler(random_state=42)\n",
    "X_ROS_test, y_ROS_test = ros.fit_resample(X_test, y_test)"
   ]
  },
  {
   "cell_type": "code",
   "execution_count": 12,
   "metadata": {},
   "outputs": [
    {
     "data": {
      "text/plain": [
       "\"Nombre d'exemple avant over sampling: 38466, après oversampling : 66852\""
      ]
     },
     "execution_count": 12,
     "metadata": {},
     "output_type": "execute_result"
    },
    {
     "data": {
      "image/png": "[encoded data removed]",
      "text/plain": [
       "<Figure size 432x288 with 1 Axes>"
      ]
     },
     "metadata": {},
     "output_type": "display_data"
    }
   ],
   "source": [
    "pd.Series(y_ROS_train).value_counts().plot.pie(autopct='%1.1f%%')\n",
    "f\"Nombre d'exemple avant over sampling: {len(y_train)}, après oversampling : {len(y_ROS_train)}\""
   ]
  },
  {
   "cell_type": "code",
   "execution_count": 13,
   "metadata": {},
   "outputs": [
    {
     "name": "stdout",
     "output_type": "stream",
     "text": [
      "Naïve Bayes :\n",
      "\n",
      "    Macro F1-score : 0.6926593791808493\n",
      "    Micro F1-score : 0.8073045864780704\n",
      "    Macro ROC-AUC: 0.782930707234853\n",
      "    Weighted ROC-AUC: 0.782930707234853\n",
      "    Classification report :\n",
      "                  precision    recall  f1-score   support\n",
      "\n",
      "          -1       0.38      0.75      0.50      2483\n",
      "           1       0.96      0.82      0.88     16464\n",
      "\n",
      "    accuracy                           0.81     18947\n",
      "   macro avg       0.67      0.78      0.69     18947\n",
      "weighted avg       0.88      0.81      0.83     18947\n",
      "\n",
      "    \n",
      "Logistic Regression :\n",
      "\n",
      "    Macro F1-score : 0.7043141763425462\n",
      "    Micro F1-score : 0.8303689238401858\n",
      "    Macro ROC-AUC: 0.7652510834608279\n",
      "    Weighted ROC-AUC: 0.7652510834608279\n",
      "    Classification report :\n",
      "                  precision    recall  f1-score   support\n",
      "\n",
      "          -1       0.41      0.68      0.51      2483\n",
      "           1       0.95      0.85      0.90     16464\n",
      "\n",
      "    accuracy                           0.83     18947\n",
      "   macro avg       0.68      0.77      0.70     18947\n",
      "weighted avg       0.88      0.83      0.85     18947\n",
      "\n",
      "    \n",
      "SVM :\n",
      "\n",
      "    Macro F1-score : 0.6854016646760783\n",
      "    Micro F1-score : 0.823032670079696\n",
      "    Macro ROC-AUC: 0.7353797489595918\n",
      "    Weighted ROC-AUC: 0.7353797489595918\n",
      "    Classification report :\n",
      "                  precision    recall  f1-score   support\n",
      "\n",
      "          -1       0.39      0.62      0.48      2483\n",
      "           1       0.94      0.85      0.89     16464\n",
      "\n",
      "    accuracy                           0.82     18947\n",
      "   macro avg       0.66      0.74      0.69     18947\n",
      "weighted avg       0.86      0.82      0.84     18947\n",
      "\n",
      "    \n"
     ]
    }
   ],
   "source": [
    "eval(X_ROS_train, y_ROS_train, X_test, y_test)"
   ]
  },
  {
   "cell_type": "code",
   "execution_count": 14,
   "metadata": {},
   "outputs": [
    {
     "name": "stdout",
     "output_type": "stream",
     "text": [
      "Naïve Bayes :\n",
      "\n",
      "    Macro F1-score : 0.778947626263373\n",
      "    Micro F1-score : 0.7792456268221575\n",
      "    Macro ROC-AUC: 0.7792456268221575\n",
      "    Weighted ROC-AUC: 0.7792456268221575\n",
      "    Classification report :\n",
      "                  precision    recall  f1-score   support\n",
      "\n",
      "          -1       0.80      0.74      0.77     16464\n",
      "           1       0.76      0.82      0.79     16464\n",
      "\n",
      "    accuracy                           0.78     32928\n",
      "   macro avg       0.78      0.78      0.78     32928\n",
      "weighted avg       0.78      0.78      0.78     32928\n",
      "\n",
      "    \n",
      "Logistic Regression :\n",
      "\n",
      "    Macro F1-score : 0.7605296869839238\n",
      "    Micro F1-score : 0.7625121477162293\n",
      "    Macro ROC-AUC: 0.7625121477162293\n",
      "    Weighted ROC-AUC: 0.7625121477162293\n",
      "    Classification report :\n",
      "                  precision    recall  f1-score   support\n",
      "\n",
      "          -1       0.82      0.67      0.74     16464\n",
      "           1       0.72      0.85      0.78     16464\n",
      "\n",
      "    accuracy                           0.76     32928\n",
      "   macro avg       0.77      0.76      0.76     32928\n",
      "weighted avg       0.77      0.76      0.76     32928\n",
      "\n",
      "    \n",
      "SVM :\n",
      "\n",
      "    Macro F1-score : 0.7286529453978356\n",
      "    Micro F1-score : 0.7326591350826045\n",
      "    Macro ROC-AUC: 0.7326591350826044\n",
      "    Weighted ROC-AUC: 0.7326591350826044\n",
      "    Classification report :\n",
      "                  precision    recall  f1-score   support\n",
      "\n",
      "          -1       0.81      0.61      0.70     16464\n",
      "           1       0.69      0.85      0.76     16464\n",
      "\n",
      "    accuracy                           0.73     32928\n",
      "   macro avg       0.75      0.73      0.73     32928\n",
      "weighted avg       0.75      0.73      0.73     32928\n",
      "\n",
      "    \n"
     ]
    }
   ],
   "source": [
    "eval(X_ROS_train, y_ROS_train, X_ROS_test, y_ROS_test)"
   ]
  },
  {
   "cell_type": "code",
   "execution_count": 15,
   "metadata": {},
   "outputs": [],
   "source": [
    "ros = RandomOverSampler(random_state=42)\n",
    "X_ROS_valid, y_ROS_valid = ros.fit_resample(X_valid, y_valid)"
   ]
  },
  {
   "cell_type": "code",
   "execution_count": 16,
   "metadata": {},
   "outputs": [
    {
     "name": "stdout",
     "output_type": "stream",
     "text": [
      "Naïve Bayes :\n",
      "\n",
      "    Macro F1-score : 0.46354489479828814\n",
      "    Micro F1-score : 0.6700169354244901\n",
      "    Macro ROC-AUC: 0.47691969376000165\n",
      "    Weighted ROC-AUC: 0.47691969376000165\n",
      "    Classification report :\n",
      "                  precision    recall  f1-score   support\n",
      "\n",
      "          -1       0.09      0.23      0.13      2918\n",
      "           1       0.89      0.72      0.80     24244\n",
      "\n",
      "    accuracy                           0.67     27162\n",
      "   macro avg       0.49      0.48      0.46     27162\n",
      "weighted avg       0.80      0.67      0.72     27162\n",
      "\n",
      "    \n",
      "Logistic Regression :\n",
      "\n",
      "    Macro F1-score : 0.4802386866171468\n",
      "    Micro F1-score : 0.7052867977321258\n",
      "    Macro ROC-AUC: 0.4918539089510244\n",
      "    Weighted ROC-AUC: 0.4918539089510244\n",
      "    Classification report :\n",
      "                  precision    recall  f1-score   support\n",
      "\n",
      "          -1       0.10      0.22      0.14      2918\n",
      "           1       0.89      0.76      0.82     24244\n",
      "\n",
      "    accuracy                           0.71     27162\n",
      "   macro avg       0.50      0.49      0.48     27162\n",
      "weighted avg       0.81      0.71      0.75     27162\n",
      "\n",
      "    \n",
      "SVM :\n",
      "\n",
      "    Macro F1-score : 0.48127062534120313\n",
      "    Micro F1-score : 0.7079375598262279\n",
      "    Macro ROC-AUC: 0.4925851795301571\n",
      "    Weighted ROC-AUC: 0.4925851795301571\n",
      "    Classification report :\n",
      "                  precision    recall  f1-score   support\n",
      "\n",
      "          -1       0.10      0.22      0.14      2918\n",
      "           1       0.89      0.77      0.82     24244\n",
      "\n",
      "    accuracy                           0.71     27162\n",
      "   macro avg       0.50      0.49      0.48     27162\n",
      "weighted avg       0.81      0.71      0.75     27162\n",
      "\n",
      "    \n"
     ]
    }
   ],
   "source": [
    "eval(X_ROS_train, y_ROS_train, X_valid, y_valid)"
   ]
  },
  {
   "cell_type": "code",
   "execution_count": 17,
   "metadata": {},
   "outputs": [
    {
     "name": "stdout",
     "output_type": "stream",
     "text": [
      "Naïve Bayes :\n",
      "\n",
      "    Macro F1-score : 0.4463996229272802\n",
      "    Micro F1-score : 0.4792525985810922\n",
      "    Macro ROC-AUC: 0.47925259858109226\n",
      "    Weighted ROC-AUC: 0.47925259858109226\n",
      "    Classification report :\n",
      "                  precision    recall  f1-score   support\n",
      "\n",
      "          -1       0.46      0.24      0.31     24244\n",
      "           1       0.49      0.72      0.58     24244\n",
      "\n",
      "    accuracy                           0.48     48488\n",
      "   macro avg       0.47      0.48      0.45     48488\n",
      "weighted avg       0.47      0.48      0.45     48488\n",
      "\n",
      "    \n",
      "Logistic Regression :\n",
      "\n",
      "    Macro F1-score : 0.4539616150035324\n",
      "    Micro F1-score : 0.4937510311829731\n",
      "    Macro ROC-AUC: 0.4937510311829731\n",
      "    Weighted ROC-AUC: 0.4937510311829731\n",
      "    Classification report :\n",
      "                  precision    recall  f1-score   support\n",
      "\n",
      "          -1       0.49      0.22      0.31     24244\n",
      "           1       0.50      0.76      0.60     24244\n",
      "\n",
      "    accuracy                           0.49     48488\n",
      "   macro avg       0.49      0.49      0.45     48488\n",
      "weighted avg       0.49      0.49      0.45     48488\n",
      "\n",
      "    \n",
      "SVM :\n",
      "\n",
      "    Macro F1-score : 0.4522778285108873\n",
      "    Micro F1-score : 0.493276687015344\n",
      "    Macro ROC-AUC: 0.493276687015344\n",
      "    Weighted ROC-AUC: 0.493276687015344\n",
      "    Classification report :\n",
      "                  precision    recall  f1-score   support\n",
      "\n",
      "          -1       0.49      0.22      0.30     24244\n",
      "           1       0.50      0.77      0.60     24244\n",
      "\n",
      "    accuracy                           0.49     48488\n",
      "   macro avg       0.49      0.49      0.45     48488\n",
      "weighted avg       0.49      0.49      0.45     48488\n",
      "\n",
      "    \n"
     ]
    }
   ],
   "source": [
    "eval(X_ROS_train, y_ROS_train, X_ROS_valid, y_ROS_valid)"
   ]
  },
  {
   "cell_type": "code",
   "execution_count": 18,
   "metadata": {},
   "outputs": [
    {
     "data": {
      "text/plain": [
       "<AxesSubplot:ylabel='None'>"
      ]
     },
     "execution_count": 18,
     "metadata": {},
     "output_type": "execute_result"
    },
    {
     "data": {
      "image/png": "[encoded data removed]",
      "text/plain": [
       "<Figure size 432x288 with 1 Axes>"
      ]
     },
     "metadata": {},
     "output_type": "display_data"
    }
   ],
   "source": [
    "pd.Series(y_valid).value_counts().plot.pie(autopct='%1.1f%%')"
   ]
  },
  {
   "cell_type": "code",
   "execution_count": 19,
   "metadata": {},
   "outputs": [],
   "source": [
    "# write_classif_report(y_test, pred_lr, name=\"Lr_Accent_NltkStopword_NltkStemmer\")"
   ]
  },
  {
   "attachments": {},
   "cell_type": "markdown",
   "metadata": {},
   "source": [
    "## Undersampling"
   ]
  },
  {
   "cell_type": "code",
   "execution_count": 20,
   "metadata": {},
   "outputs": [],
   "source": [
    "from imblearn.under_sampling import RandomUnderSampler\n",
    "\n",
    "rus = RandomUnderSampler(random_state=42)\n",
    "X_RUS_train, y_RUS_train = rus.fit_resample(X_train, y_train)\n",
    "\n",
    "rus = RandomUnderSampler(random_state=42)\n",
    "X_RUS_test, y_RUS_test = rus.fit_resample(X_test, y_test)\n",
    "\n",
    "rus = RandomUnderSampler(random_state=42)\n",
    "X_RUS_valid, y_RUS_valid = rus.fit_resample(X_valid, y_valid)"
   ]
  },
  {
   "cell_type": "code",
   "execution_count": 21,
   "metadata": {},
   "outputs": [
    {
     "name": "stdout",
     "output_type": "stream",
     "text": [
      "Naïve Bayes :\n",
      "\n",
      "    Macro F1-score : 0.6405915426575711\n",
      "    Micro F1-score : 0.7394310444925318\n",
      "    Macro ROC-AUC: 0.7738008031876233\n",
      "    Weighted ROC-AUC: 0.7738008031876233\n",
      "    Classification report :\n",
      "                  precision    recall  f1-score   support\n",
      "\n",
      "          -1       0.31      0.82      0.45      2483\n",
      "           1       0.96      0.73      0.83     16464\n",
      "\n",
      "    accuracy                           0.74     18947\n",
      "   macro avg       0.64      0.77      0.64     18947\n",
      "weighted avg       0.88      0.74      0.78     18947\n",
      "\n",
      "    \n",
      "Logistic Regression :\n",
      "\n",
      "    Macro F1-score : 0.6521028757497664\n",
      "    Micro F1-score : 0.7608064601256136\n",
      "    Macro ROC-AUC: 0.7647253632768913\n",
      "    Weighted ROC-AUC: 0.7647253632768913\n",
      "    Classification report :\n",
      "                  precision    recall  f1-score   support\n",
      "\n",
      "          -1       0.33      0.77      0.46      2483\n",
      "           1       0.96      0.76      0.85     16464\n",
      "\n",
      "    accuracy                           0.76     18947\n",
      "   macro avg       0.64      0.76      0.65     18947\n",
      "weighted avg       0.87      0.76      0.80     18947\n",
      "\n",
      "    \n",
      "SVM :\n",
      "\n",
      "    Macro F1-score : 0.6263389575181542\n",
      "    Micro F1-score : 0.7338892700691403\n",
      "    Macro ROC-AUC: 0.742055024213241\n",
      "    Weighted ROC-AUC: 0.742055024213241\n",
      "    Classification report :\n",
      "                  precision    recall  f1-score   support\n",
      "\n",
      "          -1       0.30      0.75      0.43      2483\n",
      "           1       0.95      0.73      0.83     16464\n",
      "\n",
      "    accuracy                           0.73     18947\n",
      "   macro avg       0.62      0.74      0.63     18947\n",
      "weighted avg       0.87      0.73      0.77     18947\n",
      "\n",
      "    \n"
     ]
    }
   ],
   "source": [
    "eval(X_RUS_train, y_RUS_train, X_test, y_test)"
   ]
  },
  {
   "cell_type": "code",
   "execution_count": 22,
   "metadata": {},
   "outputs": [
    {
     "name": "stdout",
     "output_type": "stream",
     "text": [
      "Naïve Bayes :\n",
      "\n",
      "    Macro F1-score : 0.770690873202659\n",
      "    Micro F1-score : 0.7712444623439387\n",
      "    Macro ROC-AUC: 0.7712444623439388\n",
      "    Weighted ROC-AUC: 0.7712444623439388\n",
      "    Classification report :\n",
      "                  precision    recall  f1-score   support\n",
      "\n",
      "          -1       0.75      0.82      0.78      2483\n",
      "           1       0.80      0.72      0.76      2483\n",
      "\n",
      "    accuracy                           0.77      4966\n",
      "   macro avg       0.77      0.77      0.77      4966\n",
      "weighted avg       0.77      0.77      0.77      4966\n",
      "\n",
      "    \n",
      "Logistic Regression :\n",
      "\n",
      "    Macro F1-score : 0.7639865539108759\n",
      "    Micro F1-score : 0.7639951671365284\n",
      "    Macro ROC-AUC: 0.7639951671365285\n",
      "    Weighted ROC-AUC: 0.7639951671365285\n",
      "    Classification report :\n",
      "                  precision    recall  f1-score   support\n",
      "\n",
      "          -1       0.76      0.77      0.77      2483\n",
      "           1       0.77      0.76      0.76      2483\n",
      "\n",
      "    accuracy                           0.76      4966\n",
      "   macro avg       0.76      0.76      0.76      4966\n",
      "weighted avg       0.76      0.76      0.76      4966\n",
      "\n",
      "    \n",
      "SVM :\n",
      "\n",
      "    Macro F1-score : 0.7430267083493927\n",
      "    Micro F1-score : 0.743052758759565\n",
      "    Macro ROC-AUC: 0.7430527587595651\n",
      "    Weighted ROC-AUC: 0.7430527587595651\n",
      "    Classification report :\n",
      "                  precision    recall  f1-score   support\n",
      "\n",
      "          -1       0.74      0.75      0.75      2483\n",
      "           1       0.75      0.73      0.74      2483\n",
      "\n",
      "    accuracy                           0.74      4966\n",
      "   macro avg       0.74      0.74      0.74      4966\n",
      "weighted avg       0.74      0.74      0.74      4966\n",
      "\n",
      "    \n"
     ]
    }
   ],
   "source": [
    "eval(X_RUS_train, y_RUS_train, X_RUS_test, y_RUS_test)"
   ]
  },
  {
   "cell_type": "code",
   "execution_count": 23,
   "metadata": {},
   "outputs": [
    {
     "name": "stdout",
     "output_type": "stream",
     "text": [
      "Naïve Bayes :\n",
      "\n",
      "    Macro F1-score : 0.4400736151844131\n",
      "    Micro F1-score : 0.5959428613504161\n",
      "    Macro ROC-AUC: 0.4737094423509491\n",
      "    Weighted ROC-AUC: 0.4737094423509491\n",
      "    Classification report :\n",
      "                  precision    recall  f1-score   support\n",
      "\n",
      "          -1       0.09      0.32      0.14      2918\n",
      "           1       0.88      0.63      0.74     24244\n",
      "\n",
      "    accuracy                           0.60     27162\n",
      "   macro avg       0.49      0.47      0.44     27162\n",
      "weighted avg       0.80      0.60      0.67     27162\n",
      "\n",
      "    \n",
      "Logistic Regression :\n",
      "\n",
      "    Macro F1-score : 0.45243339793839243\n",
      "    Micro F1-score : 0.626058464030631\n",
      "    Macro ROC-AUC: 0.4795765554197168\n",
      "    Weighted ROC-AUC: 0.4795765554197168\n",
      "    Classification report :\n",
      "                  precision    recall  f1-score   support\n",
      "\n",
      "          -1       0.10      0.29      0.14      2918\n",
      "           1       0.89      0.67      0.76     24244\n",
      "\n",
      "    accuracy                           0.63     27162\n",
      "   macro avg       0.49      0.48      0.45     27162\n",
      "weighted avg       0.80      0.63      0.69     27162\n",
      "\n",
      "    \n",
      "SVM :\n",
      "\n",
      "    Macro F1-score : 0.4450022175281587\n",
      "    Micro F1-score : 0.600471246594507\n",
      "    Macro ROC-AUC: 0.4821244891014915\n",
      "    Weighted ROC-AUC: 0.4821244891014915\n",
      "    Classification report :\n",
      "                  precision    recall  f1-score   support\n",
      "\n",
      "          -1       0.10      0.33      0.15      2918\n",
      "           1       0.89      0.63      0.74     24244\n",
      "\n",
      "    accuracy                           0.60     27162\n",
      "   macro avg       0.49      0.48      0.45     27162\n",
      "weighted avg       0.80      0.60      0.68     27162\n",
      "\n",
      "    \n"
     ]
    }
   ],
   "source": [
    "eval(X_RUS_train, y_RUS_train, X_valid, y_valid)"
   ]
  },
  {
   "cell_type": "code",
   "execution_count": 24,
   "metadata": {},
   "outputs": [
    {
     "name": "stdout",
     "output_type": "stream",
     "text": [
      "Naïve Bayes :\n",
      "\n",
      "    Macro F1-score : 0.46026139913099623\n",
      "    Micro F1-score : 0.4732693625771076\n",
      "    Macro ROC-AUC: 0.4732693625771076\n",
      "    Weighted ROC-AUC: 0.4732693625771076\n",
      "    Classification report :\n",
      "                  precision    recall  f1-score   support\n",
      "\n",
      "          -1       0.46      0.32      0.38      2918\n",
      "           1       0.48      0.63      0.54      2918\n",
      "\n",
      "    accuracy                           0.47      5836\n",
      "   macro avg       0.47      0.47      0.46      5836\n",
      "weighted avg       0.47      0.47      0.46      5836\n",
      "\n",
      "    \n",
      "Logistic Regression :\n",
      "\n",
      "    Macro F1-score : 0.462819748210592\n",
      "    Micro F1-score : 0.48200822481151473\n",
      "    Macro ROC-AUC: 0.48200822481151473\n",
      "    Weighted ROC-AUC: 0.48200822481151473\n",
      "    Classification report :\n",
      "                  precision    recall  f1-score   support\n",
      "\n",
      "          -1       0.47      0.29      0.36      2918\n",
      "           1       0.49      0.67      0.56      2918\n",
      "\n",
      "    accuracy                           0.48      5836\n",
      "   macro avg       0.48      0.48      0.46      5836\n",
      "weighted avg       0.48      0.48      0.46      5836\n",
      "\n",
      "    \n",
      "SVM :\n",
      "\n",
      "    Macro F1-score : 0.47233988609794064\n",
      "    Micro F1-score : 0.4847498286497601\n",
      "    Macro ROC-AUC: 0.48474982864976013\n",
      "    Weighted ROC-AUC: 0.48474982864976013\n",
      "    Classification report :\n",
      "                  precision    recall  f1-score   support\n",
      "\n",
      "          -1       0.48      0.33      0.39      2918\n",
      "           1       0.49      0.64      0.55      2918\n",
      "\n",
      "    accuracy                           0.48      5836\n",
      "   macro avg       0.48      0.48      0.47      5836\n",
      "weighted avg       0.48      0.48      0.47      5836\n",
      "\n",
      "    \n"
     ]
    }
   ],
   "source": [
    "eval(X_RUS_train, y_RUS_train, X_RUS_valid, y_RUS_valid)"
   ]
  },
  {
   "cell_type": "code",
   "execution_count": 25,
   "metadata": {},
   "outputs": [
    {
     "name": "stdout",
     "output_type": "stream",
     "text": [
      "Naïve Bayes :\n",
      "\n",
      "    Macro F1-score : 0.6798304882100817\n",
      "    Micro F1-score : 0.7011679420056384\n",
      "    Macro ROC-AUC: 0.7011679420056384\n",
      "    Weighted ROC-AUC: 0.7011679420056384\n",
      "    Classification report :\n",
      "                  precision    recall  f1-score   support\n",
      "\n",
      "          -1       0.92      0.44      0.60      2483\n",
      "           1       0.63      0.96      0.76      2483\n",
      "\n",
      "    accuracy                           0.70      4966\n",
      "   macro avg       0.77      0.70      0.68      4966\n",
      "weighted avg       0.77      0.70      0.68      4966\n",
      "\n",
      "    \n",
      "Logistic Regression :\n",
      "\n",
      "    Macro F1-score : 0.6402404730092386\n",
      "    Micro F1-score : 0.6729762384212646\n",
      "    Macro ROC-AUC: 0.6729762384212646\n",
      "    Weighted ROC-AUC: 0.6729762384212646\n",
      "    Classification report :\n",
      "                  precision    recall  f1-score   support\n",
      "\n",
      "          -1       0.94      0.37      0.53      2483\n",
      "           1       0.61      0.97      0.75      2483\n",
      "\n",
      "    accuracy                           0.67      4966\n",
      "   macro avg       0.77      0.67      0.64      4966\n",
      "weighted avg       0.77      0.67      0.64      4966\n",
      "\n",
      "    \n",
      "SVM :\n",
      "\n",
      "    Macro F1-score : 0.6740026567879644\n",
      "    Micro F1-score : 0.6959323399113975\n",
      "    Macro ROC-AUC: 0.6959323399113975\n",
      "    Weighted ROC-AUC: 0.6959323399113975\n",
      "    Classification report :\n",
      "                  precision    recall  f1-score   support\n",
      "\n",
      "          -1       0.91      0.44      0.59      2483\n",
      "           1       0.63      0.96      0.76      2483\n",
      "\n",
      "    accuracy                           0.70      4966\n",
      "   macro avg       0.77      0.70      0.67      4966\n",
      "weighted avg       0.77      0.70      0.67      4966\n",
      "\n",
      "    \n"
     ]
    }
   ],
   "source": [
    "eval(X_train, y_train, X_RUS_test, y_RUS_test)"
   ]
  },
  {
   "attachments": {},
   "cell_type": "markdown",
   "metadata": {},
   "source": [
    "## Penalized Models"
   ]
  },
  {
   "cell_type": "code",
   "execution_count": 26,
   "metadata": {},
   "outputs": [
    {
     "name": "stdout",
     "output_type": "stream",
     "text": [
      "Naïve Bayes :\n",
      "\n",
      "    Macro F1-score : 0.7177409085981219\n",
      "    Micro F1-score : 0.884308861561197\n",
      "    Macro ROC-AUC: 0.6969374863747927\n",
      "    Weighted ROC-AUC: 0.6969374863747927\n",
      "    Classification report :\n",
      "                  precision    recall  f1-score   support\n",
      "\n",
      "          -1       0.58      0.44      0.50      2483\n",
      "           1       0.92      0.95      0.93     16464\n",
      "\n",
      "    accuracy                           0.88     18947\n",
      "   macro avg       0.75      0.70      0.72     18947\n",
      "weighted avg       0.87      0.88      0.88     18947\n",
      "\n",
      "    \n",
      "Logistic Regression :\n",
      "\n",
      "    Macro F1-score : 0.7049767064261698\n",
      "    Micro F1-score : 0.8280994352667969\n",
      "    Macro ROC-AUC: 0.7714692048788907\n",
      "    Weighted ROC-AUC: 0.7714692048788907\n",
      "    Classification report :\n",
      "                  precision    recall  f1-score   support\n",
      "\n",
      "          -1       0.41      0.69      0.51      2483\n",
      "           1       0.95      0.85      0.90     16464\n",
      "\n",
      "    accuracy                           0.83     18947\n",
      "   macro avg       0.68      0.77      0.70     18947\n",
      "weighted avg       0.88      0.83      0.85     18947\n",
      "\n",
      "    \n",
      "SVM :\n",
      "\n",
      "    Macro F1-score : 0.6882069825846296\n",
      "    Micro F1-score : 0.8223993244313084\n",
      "    Macro ROC-AUC: 0.7427103184061726\n",
      "    Weighted ROC-AUC: 0.7427103184061726\n",
      "    Classification report :\n",
      "                  precision    recall  f1-score   support\n",
      "\n",
      "          -1       0.39      0.63      0.48      2483\n",
      "           1       0.94      0.85      0.89     16464\n",
      "\n",
      "    accuracy                           0.82     18947\n",
      "   macro avg       0.66      0.74      0.69     18947\n",
      "weighted avg       0.87      0.82      0.84     18947\n",
      "\n",
      "    \n"
     ]
    }
   ],
   "source": [
    "eval(X_train, y_train, X_test, y_test, balanced=True)"
   ]
  },
  {
   "cell_type": "code",
   "execution_count": 27,
   "metadata": {},
   "outputs": [
    {
     "name": "stdout",
     "output_type": "stream",
     "text": [
      "Naïve Bayes :\n",
      "\n",
      "    Macro F1-score : 0.49462710216428396\n",
      "    Micro F1-score : 0.7808703335542302\n",
      "    Macro ROC-AUC: 0.49530682407631166\n",
      "    Weighted ROC-AUC: 0.49530682407631166\n",
      "    Classification report :\n",
      "                  precision    recall  f1-score   support\n",
      "\n",
      "          -1       0.10      0.13      0.11      2918\n",
      "           1       0.89      0.86      0.87     24244\n",
      "\n",
      "    accuracy                           0.78     27162\n",
      "   macro avg       0.50      0.50      0.49     27162\n",
      "weighted avg       0.81      0.78      0.79     27162\n",
      "\n",
      "    \n",
      "Logistic Regression :\n",
      "\n",
      "    Macro F1-score : 0.4796956994445488\n",
      "    Micro F1-score : 0.7011633900301892\n",
      "    Macro ROC-AUC: 0.4925585906998293\n",
      "    Weighted ROC-AUC: 0.4925585906998293\n",
      "    Classification report :\n",
      "                  precision    recall  f1-score   support\n",
      "\n",
      "          -1       0.10      0.23      0.14      2918\n",
      "           1       0.89      0.76      0.82     24244\n",
      "\n",
      "    accuracy                           0.70     27162\n",
      "   macro avg       0.50      0.49      0.48     27162\n",
      "weighted avg       0.81      0.70      0.75     27162\n",
      "\n",
      "    \n",
      "SVM :\n",
      "\n",
      "    Macro F1-score : 0.48186261971707306\n",
      "    Micro F1-score : 0.7072380531625064\n",
      "    Macro ROC-AUC: 0.4938513223850869\n",
      "    Weighted ROC-AUC: 0.4938513223850869\n",
      "    Classification report :\n",
      "                  precision    recall  f1-score   support\n",
      "\n",
      "          -1       0.10      0.22      0.14      2918\n",
      "           1       0.89      0.77      0.82     24244\n",
      "\n",
      "    accuracy                           0.71     27162\n",
      "   macro avg       0.50      0.49      0.48     27162\n",
      "weighted avg       0.81      0.71      0.75     27162\n",
      "\n",
      "    \n"
     ]
    }
   ],
   "source": [
    "eval(X_train, y_train, X_valid, y_valid, balanced=True)"
   ]
  },
  {
   "attachments": {},
   "cell_type": "markdown",
   "metadata": {},
   "source": [
    "### ROS"
   ]
  },
  {
   "cell_type": "code",
   "execution_count": 28,
   "metadata": {},
   "outputs": [
    {
     "name": "stdout",
     "output_type": "stream",
     "text": [
      "Naïve Bayes :\n",
      "\n",
      "    Macro F1-score : 0.6926593791808493\n",
      "    Micro F1-score : 0.8073045864780704\n",
      "    Macro ROC-AUC: 0.782930707234853\n",
      "    Weighted ROC-AUC: 0.782930707234853\n",
      "    Classification report :\n",
      "                  precision    recall  f1-score   support\n",
      "\n",
      "          -1       0.38      0.75      0.50      2483\n",
      "           1       0.96      0.82      0.88     16464\n",
      "\n",
      "    accuracy                           0.81     18947\n",
      "   macro avg       0.67      0.78      0.69     18947\n",
      "weighted avg       0.88      0.81      0.83     18947\n",
      "\n",
      "    \n",
      "Logistic Regression :\n",
      "\n",
      "    Macro F1-score : 0.7043141763425462\n",
      "    Micro F1-score : 0.8303689238401858\n",
      "    Macro ROC-AUC: 0.7652510834608279\n",
      "    Weighted ROC-AUC: 0.7652510834608279\n",
      "    Classification report :\n",
      "                  precision    recall  f1-score   support\n",
      "\n",
      "          -1       0.41      0.68      0.51      2483\n",
      "           1       0.95      0.85      0.90     16464\n",
      "\n",
      "    accuracy                           0.83     18947\n",
      "   macro avg       0.68      0.77      0.70     18947\n",
      "weighted avg       0.88      0.83      0.85     18947\n",
      "\n",
      "    \n",
      "SVM :\n",
      "\n",
      "    Macro F1-score : 0.6854016646760783\n",
      "    Micro F1-score : 0.823032670079696\n",
      "    Macro ROC-AUC: 0.7353797489595918\n",
      "    Weighted ROC-AUC: 0.7353797489595918\n",
      "    Classification report :\n",
      "                  precision    recall  f1-score   support\n",
      "\n",
      "          -1       0.39      0.62      0.48      2483\n",
      "           1       0.94      0.85      0.89     16464\n",
      "\n",
      "    accuracy                           0.82     18947\n",
      "   macro avg       0.66      0.74      0.69     18947\n",
      "weighted avg       0.86      0.82      0.84     18947\n",
      "\n",
      "    \n"
     ]
    }
   ],
   "source": [
    "eval(X_ROS_train, y_ROS_train, X_test, y_test, balanced=True)"
   ]
  },
  {
   "cell_type": "code",
   "execution_count": 29,
   "metadata": {},
   "outputs": [
    {
     "name": "stdout",
     "output_type": "stream",
     "text": [
      "Naïve Bayes :\n",
      "\n",
      "    Macro F1-score : 0.778947626263373\n",
      "    Micro F1-score : 0.7792456268221575\n",
      "    Macro ROC-AUC: 0.7792456268221575\n",
      "    Weighted ROC-AUC: 0.7792456268221575\n",
      "    Classification report :\n",
      "                  precision    recall  f1-score   support\n",
      "\n",
      "          -1       0.80      0.74      0.77     16464\n",
      "           1       0.76      0.82      0.79     16464\n",
      "\n",
      "    accuracy                           0.78     32928\n",
      "   macro avg       0.78      0.78      0.78     32928\n",
      "weighted avg       0.78      0.78      0.78     32928\n",
      "\n",
      "    \n",
      "Logistic Regression :\n",
      "\n",
      "    Macro F1-score : 0.7605296869839238\n",
      "    Micro F1-score : 0.7625121477162293\n",
      "    Macro ROC-AUC: 0.7625121477162293\n",
      "    Weighted ROC-AUC: 0.7625121477162293\n",
      "    Classification report :\n",
      "                  precision    recall  f1-score   support\n",
      "\n",
      "          -1       0.82      0.67      0.74     16464\n",
      "           1       0.72      0.85      0.78     16464\n",
      "\n",
      "    accuracy                           0.76     32928\n",
      "   macro avg       0.77      0.76      0.76     32928\n",
      "weighted avg       0.77      0.76      0.76     32928\n",
      "\n",
      "    \n",
      "SVM :\n",
      "\n",
      "    Macro F1-score : 0.7286529453978356\n",
      "    Micro F1-score : 0.7326591350826045\n",
      "    Macro ROC-AUC: 0.7326591350826044\n",
      "    Weighted ROC-AUC: 0.7326591350826044\n",
      "    Classification report :\n",
      "                  precision    recall  f1-score   support\n",
      "\n",
      "          -1       0.81      0.61      0.70     16464\n",
      "           1       0.69      0.85      0.76     16464\n",
      "\n",
      "    accuracy                           0.73     32928\n",
      "   macro avg       0.75      0.73      0.73     32928\n",
      "weighted avg       0.75      0.73      0.73     32928\n",
      "\n",
      "    \n"
     ]
    }
   ],
   "source": [
    "eval(X_ROS_train, y_ROS_train, X_ROS_test, y_ROS_test, balanced=True)"
   ]
  },
  {
   "cell_type": "code",
   "execution_count": 30,
   "metadata": {},
   "outputs": [
    {
     "name": "stdout",
     "output_type": "stream",
     "text": [
      "Naïve Bayes :\n",
      "\n",
      "    Macro F1-score : 0.46354489479828814\n",
      "    Micro F1-score : 0.6700169354244901\n",
      "    Macro ROC-AUC: 0.47691969376000165\n",
      "    Weighted ROC-AUC: 0.47691969376000165\n",
      "    Classification report :\n",
      "                  precision    recall  f1-score   support\n",
      "\n",
      "          -1       0.09      0.23      0.13      2918\n",
      "           1       0.89      0.72      0.80     24244\n",
      "\n",
      "    accuracy                           0.67     27162\n",
      "   macro avg       0.49      0.48      0.46     27162\n",
      "weighted avg       0.80      0.67      0.72     27162\n",
      "\n",
      "    \n",
      "Logistic Regression :\n",
      "\n",
      "    Macro F1-score : 0.4802386866171468\n",
      "    Micro F1-score : 0.7052867977321258\n",
      "    Macro ROC-AUC: 0.4918539089510244\n",
      "    Weighted ROC-AUC: 0.4918539089510244\n",
      "    Classification report :\n",
      "                  precision    recall  f1-score   support\n",
      "\n",
      "          -1       0.10      0.22      0.14      2918\n",
      "           1       0.89      0.76      0.82     24244\n",
      "\n",
      "    accuracy                           0.71     27162\n",
      "   macro avg       0.50      0.49      0.48     27162\n",
      "weighted avg       0.81      0.71      0.75     27162\n",
      "\n",
      "    \n",
      "SVM :\n",
      "\n",
      "    Macro F1-score : 0.48127062534120313\n",
      "    Micro F1-score : 0.7079375598262279\n",
      "    Macro ROC-AUC: 0.4925851795301571\n",
      "    Weighted ROC-AUC: 0.4925851795301571\n",
      "    Classification report :\n",
      "                  precision    recall  f1-score   support\n",
      "\n",
      "          -1       0.10      0.22      0.14      2918\n",
      "           1       0.89      0.77      0.82     24244\n",
      "\n",
      "    accuracy                           0.71     27162\n",
      "   macro avg       0.50      0.49      0.48     27162\n",
      "weighted avg       0.81      0.71      0.75     27162\n",
      "\n",
      "    \n"
     ]
    }
   ],
   "source": [
    "eval(X_ROS_train, y_ROS_train, X_valid, y_valid, balanced=True)"
   ]
  },
  {
   "cell_type": "code",
   "execution_count": 31,
   "metadata": {},
   "outputs": [
    {
     "name": "stdout",
     "output_type": "stream",
     "text": [
      "Naïve Bayes :\n",
      "\n",
      "    Macro F1-score : 0.4463996229272802\n",
      "    Micro F1-score : 0.4792525985810922\n",
      "    Macro ROC-AUC: 0.47925259858109226\n",
      "    Weighted ROC-AUC: 0.47925259858109226\n",
      "    Classification report :\n",
      "                  precision    recall  f1-score   support\n",
      "\n",
      "          -1       0.46      0.24      0.31     24244\n",
      "           1       0.49      0.72      0.58     24244\n",
      "\n",
      "    accuracy                           0.48     48488\n",
      "   macro avg       0.47      0.48      0.45     48488\n",
      "weighted avg       0.47      0.48      0.45     48488\n",
      "\n",
      "    \n",
      "Logistic Regression :\n",
      "\n",
      "    Macro F1-score : 0.4539616150035324\n",
      "    Micro F1-score : 0.4937510311829731\n",
      "    Macro ROC-AUC: 0.4937510311829731\n",
      "    Weighted ROC-AUC: 0.4937510311829731\n",
      "    Classification report :\n",
      "                  precision    recall  f1-score   support\n",
      "\n",
      "          -1       0.49      0.22      0.31     24244\n",
      "           1       0.50      0.76      0.60     24244\n",
      "\n",
      "    accuracy                           0.49     48488\n",
      "   macro avg       0.49      0.49      0.45     48488\n",
      "weighted avg       0.49      0.49      0.45     48488\n",
      "\n",
      "    \n",
      "SVM :\n",
      "\n",
      "    Macro F1-score : 0.4522778285108873\n",
      "    Micro F1-score : 0.493276687015344\n",
      "    Macro ROC-AUC: 0.493276687015344\n",
      "    Weighted ROC-AUC: 0.493276687015344\n",
      "    Classification report :\n",
      "                  precision    recall  f1-score   support\n",
      "\n",
      "          -1       0.49      0.22      0.30     24244\n",
      "           1       0.50      0.77      0.60     24244\n",
      "\n",
      "    accuracy                           0.49     48488\n",
      "   macro avg       0.49      0.49      0.45     48488\n",
      "weighted avg       0.49      0.49      0.45     48488\n",
      "\n",
      "    \n"
     ]
    }
   ],
   "source": [
    "eval(X_ROS_train, y_ROS_train, X_ROS_valid, y_ROS_valid, balanced=True)"
   ]
  },
  {
   "attachments": {},
   "cell_type": "markdown",
   "metadata": {},
   "source": [
    "### RUS"
   ]
  },
  {
   "cell_type": "code",
   "execution_count": 32,
   "metadata": {},
   "outputs": [
    {
     "name": "stdout",
     "output_type": "stream",
     "text": [
      "Naïve Bayes :\n",
      "\n",
      "    Macro F1-score : 0.6405915426575711\n",
      "    Micro F1-score : 0.7394310444925318\n",
      "    Macro ROC-AUC: 0.7738008031876233\n",
      "    Weighted ROC-AUC: 0.7738008031876233\n",
      "    Classification report :\n",
      "                  precision    recall  f1-score   support\n",
      "\n",
      "          -1       0.31      0.82      0.45      2483\n",
      "           1       0.96      0.73      0.83     16464\n",
      "\n",
      "    accuracy                           0.74     18947\n",
      "   macro avg       0.64      0.77      0.64     18947\n",
      "weighted avg       0.88      0.74      0.78     18947\n",
      "\n",
      "    \n",
      "Logistic Regression :\n",
      "\n",
      "    Macro F1-score : 0.6521028757497664\n",
      "    Micro F1-score : 0.7608064601256136\n",
      "    Macro ROC-AUC: 0.7647253632768913\n",
      "    Weighted ROC-AUC: 0.7647253632768913\n",
      "    Classification report :\n",
      "                  precision    recall  f1-score   support\n",
      "\n",
      "          -1       0.33      0.77      0.46      2483\n",
      "           1       0.96      0.76      0.85     16464\n",
      "\n",
      "    accuracy                           0.76     18947\n",
      "   macro avg       0.64      0.76      0.65     18947\n",
      "weighted avg       0.87      0.76      0.80     18947\n",
      "\n",
      "    \n",
      "SVM :\n",
      "\n",
      "    Macro F1-score : 0.6263389575181542\n",
      "    Micro F1-score : 0.7338892700691403\n",
      "    Macro ROC-AUC: 0.742055024213241\n",
      "    Weighted ROC-AUC: 0.742055024213241\n",
      "    Classification report :\n",
      "                  precision    recall  f1-score   support\n",
      "\n",
      "          -1       0.30      0.75      0.43      2483\n",
      "           1       0.95      0.73      0.83     16464\n",
      "\n",
      "    accuracy                           0.73     18947\n",
      "   macro avg       0.62      0.74      0.63     18947\n",
      "weighted avg       0.87      0.73      0.77     18947\n",
      "\n",
      "    \n"
     ]
    }
   ],
   "source": [
    "eval(X_RUS_train, y_RUS_train, X_test, y_test, balanced=True)"
   ]
  },
  {
   "cell_type": "code",
   "execution_count": 33,
   "metadata": {},
   "outputs": [
    {
     "name": "stdout",
     "output_type": "stream",
     "text": [
      "Naïve Bayes :\n",
      "\n",
      "    Macro F1-score : 0.770690873202659\n",
      "    Micro F1-score : 0.7712444623439387\n",
      "    Macro ROC-AUC: 0.7712444623439388\n",
      "    Weighted ROC-AUC: 0.7712444623439388\n",
      "    Classification report :\n",
      "                  precision    recall  f1-score   support\n",
      "\n",
      "          -1       0.75      0.82      0.78      2483\n",
      "           1       0.80      0.72      0.76      2483\n",
      "\n",
      "    accuracy                           0.77      4966\n",
      "   macro avg       0.77      0.77      0.77      4966\n",
      "weighted avg       0.77      0.77      0.77      4966\n",
      "\n",
      "    \n",
      "Logistic Regression :\n",
      "\n",
      "    Macro F1-score : 0.7639865539108759\n",
      "    Micro F1-score : 0.7639951671365284\n",
      "    Macro ROC-AUC: 0.7639951671365285\n",
      "    Weighted ROC-AUC: 0.7639951671365285\n",
      "    Classification report :\n",
      "                  precision    recall  f1-score   support\n",
      "\n",
      "          -1       0.76      0.77      0.77      2483\n",
      "           1       0.77      0.76      0.76      2483\n",
      "\n",
      "    accuracy                           0.76      4966\n",
      "   macro avg       0.76      0.76      0.76      4966\n",
      "weighted avg       0.76      0.76      0.76      4966\n",
      "\n",
      "    \n",
      "SVM :\n",
      "\n",
      "    Macro F1-score : 0.7430267083493927\n",
      "    Micro F1-score : 0.743052758759565\n",
      "    Macro ROC-AUC: 0.7430527587595651\n",
      "    Weighted ROC-AUC: 0.7430527587595651\n",
      "    Classification report :\n",
      "                  precision    recall  f1-score   support\n",
      "\n",
      "          -1       0.74      0.75      0.75      2483\n",
      "           1       0.75      0.73      0.74      2483\n",
      "\n",
      "    accuracy                           0.74      4966\n",
      "   macro avg       0.74      0.74      0.74      4966\n",
      "weighted avg       0.74      0.74      0.74      4966\n",
      "\n",
      "    \n"
     ]
    }
   ],
   "source": [
    "eval(X_RUS_train, y_RUS_train, X_RUS_test, y_RUS_test, balanced=True)"
   ]
  },
  {
   "cell_type": "code",
   "execution_count": 34,
   "metadata": {},
   "outputs": [
    {
     "name": "stdout",
     "output_type": "stream",
     "text": [
      "Naïve Bayes :\n",
      "\n",
      "    Macro F1-score : 0.4400736151844131\n",
      "    Micro F1-score : 0.5959428613504161\n",
      "    Macro ROC-AUC: 0.4737094423509491\n",
      "    Weighted ROC-AUC: 0.4737094423509491\n",
      "    Classification report :\n",
      "                  precision    recall  f1-score   support\n",
      "\n",
      "          -1       0.09      0.32      0.14      2918\n",
      "           1       0.88      0.63      0.74     24244\n",
      "\n",
      "    accuracy                           0.60     27162\n",
      "   macro avg       0.49      0.47      0.44     27162\n",
      "weighted avg       0.80      0.60      0.67     27162\n",
      "\n",
      "    \n",
      "Logistic Regression :\n",
      "\n",
      "    Macro F1-score : 0.45243339793839243\n",
      "    Micro F1-score : 0.626058464030631\n",
      "    Macro ROC-AUC: 0.4795765554197168\n",
      "    Weighted ROC-AUC: 0.4795765554197168\n",
      "    Classification report :\n",
      "                  precision    recall  f1-score   support\n",
      "\n",
      "          -1       0.10      0.29      0.14      2918\n",
      "           1       0.89      0.67      0.76     24244\n",
      "\n",
      "    accuracy                           0.63     27162\n",
      "   macro avg       0.49      0.48      0.45     27162\n",
      "weighted avg       0.80      0.63      0.69     27162\n",
      "\n",
      "    \n",
      "SVM :\n",
      "\n",
      "    Macro F1-score : 0.4450022175281587\n",
      "    Micro F1-score : 0.600471246594507\n",
      "    Macro ROC-AUC: 0.4821244891014915\n",
      "    Weighted ROC-AUC: 0.4821244891014915\n",
      "    Classification report :\n",
      "                  precision    recall  f1-score   support\n",
      "\n",
      "          -1       0.10      0.33      0.15      2918\n",
      "           1       0.89      0.63      0.74     24244\n",
      "\n",
      "    accuracy                           0.60     27162\n",
      "   macro avg       0.49      0.48      0.45     27162\n",
      "weighted avg       0.80      0.60      0.68     27162\n",
      "\n",
      "    \n"
     ]
    }
   ],
   "source": [
    "eval(X_RUS_train, y_RUS_train, X_valid, y_valid, balanced=True)"
   ]
  },
  {
   "cell_type": "code",
   "execution_count": 35,
   "metadata": {},
   "outputs": [
    {
     "name": "stdout",
     "output_type": "stream",
     "text": [
      "Naïve Bayes :\n",
      "\n",
      "    Macro F1-score : 0.46026139913099623\n",
      "    Micro F1-score : 0.4732693625771076\n",
      "    Macro ROC-AUC: 0.4732693625771076\n",
      "    Weighted ROC-AUC: 0.4732693625771076\n",
      "    Classification report :\n",
      "                  precision    recall  f1-score   support\n",
      "\n",
      "          -1       0.46      0.32      0.38      2918\n",
      "           1       0.48      0.63      0.54      2918\n",
      "\n",
      "    accuracy                           0.47      5836\n",
      "   macro avg       0.47      0.47      0.46      5836\n",
      "weighted avg       0.47      0.47      0.46      5836\n",
      "\n",
      "    \n",
      "Logistic Regression :\n",
      "\n",
      "    Macro F1-score : 0.462819748210592\n",
      "    Micro F1-score : 0.48200822481151473\n",
      "    Macro ROC-AUC: 0.48200822481151473\n",
      "    Weighted ROC-AUC: 0.48200822481151473\n",
      "    Classification report :\n",
      "                  precision    recall  f1-score   support\n",
      "\n",
      "          -1       0.47      0.29      0.36      2918\n",
      "           1       0.49      0.67      0.56      2918\n",
      "\n",
      "    accuracy                           0.48      5836\n",
      "   macro avg       0.48      0.48      0.46      5836\n",
      "weighted avg       0.48      0.48      0.46      5836\n",
      "\n",
      "    \n",
      "SVM :\n",
      "\n",
      "    Macro F1-score : 0.47233988609794064\n",
      "    Micro F1-score : 0.4847498286497601\n",
      "    Macro ROC-AUC: 0.48474982864976013\n",
      "    Weighted ROC-AUC: 0.48474982864976013\n",
      "    Classification report :\n",
      "                  precision    recall  f1-score   support\n",
      "\n",
      "          -1       0.48      0.33      0.39      2918\n",
      "           1       0.49      0.64      0.55      2918\n",
      "\n",
      "    accuracy                           0.48      5836\n",
      "   macro avg       0.48      0.48      0.47      5836\n",
      "weighted avg       0.48      0.48      0.47      5836\n",
      "\n",
      "    \n"
     ]
    }
   ],
   "source": [
    "eval(X_RUS_train, y_RUS_train, X_RUS_valid, y_RUS_valid, balanced=True)"
   ]
  },
  {
   "cell_type": "code",
   "execution_count": 36,
   "metadata": {},
   "outputs": [
    {
     "name": "stdout",
     "output_type": "stream",
     "text": [
      "Naïve Bayes :\n",
      "\n",
      "    Macro F1-score : 0.6798304882100817\n",
      "    Micro F1-score : 0.7011679420056384\n",
      "    Macro ROC-AUC: 0.7011679420056384\n",
      "    Weighted ROC-AUC: 0.7011679420056384\n",
      "    Classification report :\n",
      "                  precision    recall  f1-score   support\n",
      "\n",
      "          -1       0.92      0.44      0.60      2483\n",
      "           1       0.63      0.96      0.76      2483\n",
      "\n",
      "    accuracy                           0.70      4966\n",
      "   macro avg       0.77      0.70      0.68      4966\n",
      "weighted avg       0.77      0.70      0.68      4966\n",
      "\n",
      "    \n",
      "Logistic Regression :\n",
      "\n",
      "    Macro F1-score : 0.7710695426270064\n",
      "    Micro F1-score : 0.7724526782118406\n",
      "    Macro ROC-AUC: 0.7724526782118406\n",
      "    Weighted ROC-AUC: 0.7724526782118406\n",
      "    Classification report :\n",
      "                  precision    recall  f1-score   support\n",
      "\n",
      "          -1       0.82      0.69      0.75      2483\n",
      "           1       0.74      0.85      0.79      2483\n",
      "\n",
      "    accuracy                           0.77      4966\n",
      "   macro avg       0.78      0.77      0.77      4966\n",
      "weighted avg       0.78      0.77      0.77      4966\n",
      "\n",
      "    \n",
      "SVM :\n",
      "\n",
      "    Macro F1-score : 0.7413470646664968\n",
      "    Micro F1-score : 0.7444623439387837\n",
      "    Macro ROC-AUC: 0.7444623439387837\n",
      "    Weighted ROC-AUC: 0.7444623439387837\n",
      "    Classification report :\n",
      "                  precision    recall  f1-score   support\n",
      "\n",
      "          -1       0.81      0.63      0.71      2483\n",
      "           1       0.70      0.85      0.77      2483\n",
      "\n",
      "    accuracy                           0.74      4966\n",
      "   macro avg       0.76      0.74      0.74      4966\n",
      "weighted avg       0.76      0.74      0.74      4966\n",
      "\n",
      "    \n"
     ]
    }
   ],
   "source": [
    "eval(X_train, y_train, X_RUS_test, y_RUS_test, balanced=True)"
   ]
  }
 ],
 "metadata": {
  "kernelspec": {
   "display_name": "Python 3",
   "language": "python",
   "name": "python3"
  },
  "language_info": {
   "codemirror_mode": {
    "name": "ipython",
    "version": 3
   },
   "file_extension": ".py",
   "mimetype": "text/x-python",
   "name": "python",
   "nbconvert_exporter": "python",
   "pygments_lexer": "ipython3",
   "version": "3.8.10"
  },
  "orig_nbformat": 4,
  "vscode": {
   "interpreter": {
    "hash": "916dbcbb3f70747c44a77c7bcd40155683ae19c65e1c03b4aa3499c5328201f1"
   }
  }
 },
 "nbformat": 4,
 "nbformat_minor": 2
}
