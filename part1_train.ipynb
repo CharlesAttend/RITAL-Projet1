{
 "cells": [
  {
   "cell_type": "code",
   "execution_count": 2,
   "metadata": {},
   "outputs": [],
   "source": [
    "from src.data import load_data_part1, CustomAnalyzer\n",
    "from src.eval import eval_from_config\n",
    "import pandas as pd\n",
    "from nltk.corpus import stopwords\n",
    "from sklearn.feature_extraction.text import CountVectorizer, TfidfTransformer\n",
    "from sklearn.model_selection import train_test_split"
   ]
  },
  {
   "cell_type": "code",
   "execution_count": 3,
   "metadata": {},
   "outputs": [],
   "source": [
    "X, y = load_data_part1()"
   ]
  },
  {
   "cell_type": "code",
   "execution_count": 6,
   "metadata": {},
   "outputs": [
    {
     "ename": "TypeError",
     "evalue": "eval_from_config() got an unexpected keyword argument 'saveName'",
     "output_type": "error",
     "traceback": [
      "\u001b[1;31m---------------------------------------------------------------------------\u001b[0m",
      "\u001b[1;31mTypeError\u001b[0m                                 Traceback (most recent call last)",
      "Cell \u001b[1;32mIn [6], line 3\u001b[0m\n\u001b[0;32m      1\u001b[0m analyzer \u001b[39m=\u001b[39m CustomAnalyzer(\u001b[39m\"\u001b[39m\u001b[39mdefault_config\u001b[39m\u001b[39m\"\u001b[39m)\n\u001b[0;32m      2\u001b[0m X_train, X_test, y_train, y_test \u001b[39m=\u001b[39m train_test_split(X, y)\n\u001b[1;32m----> 3\u001b[0m eval_from_config(X_train, X_test, y_train, y_test, \u001b[39m\"\u001b[39;49m\u001b[39mdefault_config.1\u001b[39;49m\u001b[39m\"\u001b[39;49m, vectorizer_class\u001b[39m=\u001b[39;49mTfidfTransformer, saveName\u001b[39m=\u001b[39;49m\u001b[39m\"\u001b[39;49m\u001b[39mTfIdf\u001b[39;49m\u001b[39m\"\u001b[39;49m, path\u001b[39m=\u001b[39;49m\u001b[39m\"\u001b[39;49m\u001b[39m./part1_speaker_recognition/stats/\u001b[39;49m\u001b[39m\"\u001b[39;49m)\n",
      "\u001b[1;31mTypeError\u001b[0m: eval_from_config() got an unexpected keyword argument 'saveName'"
     ]
    }
   ],
   "source": [
    "analyzer = CustomAnalyzer(\"default_config\")\n",
    "X_train, X_test, y_train, y_test = train_test_split(X, y)\n",
    "eval_from_config(X_train, X_test, y_train, y_test, \"default_config.1\", vectorizer_class=TfidfTransformer, save_name=\"TfIdf\", path=\"./part1_speaker_recognition/stats/\")"
   ]
  },
  {
   "cell_type": "code",
   "execution_count": null,
   "metadata": {},
   "outputs": [],
   "source": []
  }
 ],
 "metadata": {
  "kernelspec": {
   "display_name": "base",
   "language": "python",
   "name": "python3"
  },
  "language_info": {
   "codemirror_mode": {
    "name": "ipython",
    "version": 3
   },
   "file_extension": ".py",
   "mimetype": "text/x-python",
   "name": "python",
   "nbconvert_exporter": "python",
   "pygments_lexer": "ipython3",
   "version": "3.9.15"
  },
  "orig_nbformat": 4,
  "vscode": {
   "interpreter": {
    "hash": "2fab8bb58872eea954be60fe26736758986b2ee88847f90b9cf8ff99eebe69e4"
   }
  }
 },
 "nbformat": 4,
 "nbformat_minor": 2
}
